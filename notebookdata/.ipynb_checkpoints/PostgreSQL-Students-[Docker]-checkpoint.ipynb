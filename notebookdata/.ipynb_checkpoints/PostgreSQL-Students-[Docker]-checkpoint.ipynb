{
 "cells": [
  {
   "cell_type": "markdown",
   "metadata": {},
   "source": [
    "# Week 1: Relational Models & PostgreSQL\n",
    "### Student ID: DANIEL RAPOSO SANCHEZ\n",
    "### Subtasks Done: [#,#,..]"
   ]
  },
  {
   "cell_type": "markdown",
   "metadata": {},
   "source": [
    "## Lab Goals:\n",
    "   1. Get familiar with the relational DBs.\n",
    "   2. Get familiar with the relational SQL query language.\n",
    "   2. Get familiar with postgreSQL as one of the most popular RDBMSs.\n",
    "  \n",
    "\n",
    "## Lab Tasks:\n",
    "   0. Get familiar with Python and Jupyter Notebook.\n",
    "   1. First Steps of SQL (DDL [Create DB, CREATE TABLES], DQL [SELECTIONS, PROJECTIONS, FIRLTREING, ORDERING, Different Types of JOINS,..etc], and Some DML operations [INSERTIONS, UPDATES, and DELETIONS])\n",
    "   2. Create a simple Relational Database Model (MovieDB).\n",
    "   3. More Query exercises with a DB ready for you, (just by running a SQL script).\n",
    "   "
   ]
  },
  {
   "cell_type": "markdown",
   "metadata": {},
   "source": [
    "# Task 0: Python & Jupyter Notebook & Pandas tutorial video\n",
    "\n",
    "##### - First for Students who are not familiar with <font color='red'>Python</font>, I recommend this python full course https://www.youtube.com/watch?v=_uQrJ0TkZlc \n",
    "\n",
    "##### - Second, please watch the following video <font color='red'>\"Jupyter Notebook Tutorial\"</font> and answer the question below. Please answer the questions by writing your answer next to the red \"Answer \" label (the same for the other questions throught the NoteBook). Also, we recommend you to follow the examples in the video and try it out by yourself."
   ]
  },
  {
   "cell_type": "code",
   "execution_count": 1,
   "metadata": {},
   "outputs": [
    {
     "data": {
      "text/html": [
       "<center><iframe width=\"600\" height=\"315\" src=\"https://www.youtube.com/embed/HW29067qVWk\" frameborder=\"0\" allowfullscreen></iframe>\n"
      ],
      "text/plain": [
       "<IPython.core.display.HTML object>"
      ]
     },
     "metadata": {},
     "output_type": "display_data"
    }
   ],
   "source": [
    "%%HTML \n",
    "<center><iframe width=\"600\" height=\"315\" src=\"https://www.youtube.com/embed/HW29067qVWk\" frameborder=\"0\" allowfullscreen></iframe>"
   ]
  },
  {
   "cell_type": "markdown",
   "metadata": {},
   "source": [
    " #### What are the advantages of using jupyter notebook?"
   ]
  },
  {
   "cell_type": "markdown",
   "metadata": {},
   "source": [
    "<font color = \"red\"><b>Answer:</b></font>"
   ]
  },
  {
   "cell_type": "markdown",
   "metadata": {},
   "source": [
    "##### - Last but not least, Python Pandas \n",
    "\n",
    "pandas is a fast, powerful, flexible and easy to use open source data analysis and manipulation tool, built on top of the Python programming language.\n",
    "\n",
    "- To get familiar with Pandas library you can follow this tutourial:\n",
    "    - https://www.youtube.com/watch?v=vmEHCJofslg&feature=emb_rel_pause\n",
    "- You can also use the follwing cheat-sheet link of pandas:\n",
    "    - https://pandas.pydata.org/Pandas_Cheat_Sheet.pdf\n"
   ]
  },
  {
   "cell_type": "markdown",
   "metadata": {},
   "source": [
    "# Introduction:\n",
    "\n",
    "### Relational DB Structure \n",
    "- A relational database consists of a collection of tables, each having a unique name.\n",
    "- A row in a table represents a relationship among a set of values.\n",
    "- Thus a table represents a collection of relationships. \n",
    "<img src =\"https://raw.githubusercontent.com/DataSystemsGroupUT/dataeng/dataeng/attachments/attrer2.png\" width =\"550\" height=\"150\">\n",
    "\n",
    "\n",
    "###  Structured Query Language (SQL)\n",
    "\n",
    "<a href='https://en.wikipedia.org/wiki/SQL'>SQL </a> is used to communicate with a database. SQL is the standard language for relational database management systems. SQL statements are used to perform tasks such as update data on a database, or retrieve data from a database. \n",
    "\n",
    "Some common relational database management systems that use SQL are: Oracle, Sybase, Microsoft SQL Server, Access, Ingres. However, the standard SQL commands such as \"Select\", \"Insert\", \"Update\", \"Delete\", \"Create\", and \"Drop\" can be used to accomplish almost everything that one needs to do with a database. This tutorial will provide you with the instruction on the basics of each of these commands as well as allow you to put them to practice using the SQL Interpreter.\n",
    "\n",
    "- First Steps with SQL can be followed from this <a href='https://www.sqltutorial.org/sql-cheat-sheet/'>link </a>.\n",
    "\n",
    "\n",
    "### PostgreSQL:\n",
    "   <a href=\"https://www.postgresql.org/\">PostgreSQL</a> is a powerful, open source object-relational database system with over 30 years of active development that has earned it a strong reputation for reliability, feature robustness, and performance. (<b>According to official website of PostgreSQL Database</b>)<br/>\n",
    "   \n",
    "- PostgreSQL offecial documentation (https://www.postgresql.org/docs/9.3/index.html)\n",
    "    - pdf version of last release(https://www.postgresql.org/files/documentation/pdf/12/postgresql-12-A4.pdf)\n",
    "\n",
    "<img src=\"https://www.postgresql.org/media/img/about/press/elephant.png\" width =\"100\" height=\"75\">\n",
    "\n"
   ]
  },
  {
   "cell_type": "markdown",
   "metadata": {},
   "source": [
    "# PreLab\n",
    "\n",
    "### Installations:\n",
    "\n",
    "#### Using Docker no need for setup\n",
    "\n",
    "#### (Good to Know) \n",
    "##### Accessing PostgreSQL from Command Line:\n",
    "- Add the PostgreSQL  installation \"/home\" and \"/bin\" directories to the enviroment variables.\n",
    "- use the command ```psql -U postgres postgres``` to connect to the the by-default created database \"postgres\" with the user \"postgres\".\n",
    "- Enter your set \"postgres\" password (i.e password of the default password that you have been asked at the time of installtion).\n",
    "\n",
    "##### Connect To a PostgreSQL Database Server\n",
    "- show you how to connect to the PostgreSQL using psql tool and pgAdmin 4 GUI tool.\n"
   ]
  },
  {
   "cell_type": "markdown",
   "metadata": {},
   "source": [
    "#### Run the following command to install ***psycopg*** like any other Python package."
   ]
  },
  {
   "cell_type": "code",
   "execution_count": 2,
   "metadata": {},
   "outputs": [
    {
     "name": "stdout",
     "output_type": "stream",
     "text": [
      "Package                       Version\n",
      "----------------------------- ------------\n",
      "aiohttp                       3.8.6\n",
      "aiosignal                     1.3.1\n",
      "alembic                       1.12.0\n",
      "altair                        5.1.2\n",
      "anyio                         4.0.0\n",
      "argon2-cffi                   23.1.0\n",
      "argon2-cffi-bindings          21.2.0\n",
      "arrow                         1.3.0\n",
      "asttokens                     2.4.0\n",
      "async-generator               1.10\n",
      "async-lru                     2.0.4\n",
      "async-timeout                 4.0.3\n",
      "attrs                         23.1.0\n",
      "Babel                         2.13.0\n",
      "backcall                      0.2.0\n",
      "backports.functools-lru-cache 1.6.5\n",
      "beautifulsoup4                4.12.2\n",
      "bleach                        6.1.0\n",
      "blinker                       1.6.3\n",
      "bokeh                         3.3.0\n",
      "boltons                       23.0.0\n",
      "Bottleneck                    1.3.7\n",
      "Brotli                        1.1.0\n",
      "cached-property               1.5.2\n",
      "certifi                       2023.7.22\n",
      "certipy                       0.1.3\n",
      "cffi                          1.16.0\n",
      "charset-normalizer            3.3.0\n",
      "click                         8.1.7\n",
      "cloudpickle                   3.0.0\n",
      "colorama                      0.4.6\n",
      "comm                          0.1.4\n",
      "conda                         23.9.0\n",
      "conda-package-handling        2.2.0\n",
      "conda_package_streaming       0.9.0\n",
      "contourpy                     1.1.1\n",
      "cryptography                  41.0.4\n",
      "cycler                        0.12.1\n",
      "Cython                        3.0.3\n",
      "cytoolz                       0.12.2\n",
      "dask                          2023.10.0\n",
      "debugpy                       1.8.0\n",
      "decorator                     5.1.1\n",
      "defusedxml                    0.7.1\n",
      "dill                          0.3.7\n",
      "distributed                   2023.10.0\n",
      "dnspython                     2.4.2\n",
      "entrypoints                   0.4\n",
      "et-xmlfile                    1.1.0\n",
      "exceptiongroup                1.1.3\n",
      "executing                     1.2.0\n",
      "fastjsonschema                2.18.1\n",
      "fonttools                     4.43.1\n",
      "fqdn                          1.5.1\n",
      "frozenlist                    1.4.0\n",
      "fsspec                        2023.9.2\n",
      "gitdb                         4.0.10\n",
      "GitPython                     3.1.37\n",
      "gmpy2                         2.1.2\n",
      "graphviz                      0.20.1\n",
      "greenlet                      3.0.0\n",
      "h5py                          3.10.0\n",
      "idna                          3.4\n",
      "imagecodecs                   2023.9.18\n",
      "imageio                       2.31.5\n",
      "importlib-metadata            6.8.0\n",
      "importlib-resources           6.1.0\n",
      "ipykernel                     6.25.2\n",
      "ipympl                        0.9.3\n",
      "ipython                       8.16.1\n",
      "ipython-cypher                0.2.6\n",
      "ipython-genutils              0.2.0\n",
      "ipython-sql                   0.5.0\n",
      "ipywidgets                    8.1.1\n",
      "isodate                       0.6.1\n",
      "isoduration                   20.11.0\n",
      "jedi                          0.19.1\n",
      "Jinja2                        3.1.2\n",
      "joblib                        1.3.2\n",
      "json5                         0.9.14\n",
      "jsonpatch                     1.33\n",
      "jsonpointer                   2.4\n",
      "jsonschema                    4.19.1\n",
      "jsonschema-specifications     2023.7.1\n",
      "jupyter_client                8.4.0\n",
      "jupyter_core                  5.4.0\n",
      "jupyter-events                0.8.0\n",
      "jupyter-lsp                   2.2.0\n",
      "jupyter-pluto-proxy           0.1.2\n",
      "jupyter_server                2.8.0\n",
      "jupyter-server-mathjax        0.2.6\n",
      "jupyter_server_proxy          4.1.0\n",
      "jupyter_server_terminals      0.4.4\n",
      "jupyter-telemetry             0.1.0\n",
      "jupyterhub                    4.0.2\n",
      "jupyterlab                    4.0.7\n",
      "jupyterlab-git                0.41.0\n",
      "jupyterlab-pygments           0.2.2\n",
      "jupyterlab_server             2.25.0\n",
      "jupyterlab-widgets            3.0.9\n",
      "kafka-python                  2.0.2\n",
      "kiwisolver                    1.4.5\n",
      "lazy_loader                   0.3\n",
      "libmambapy                    1.5.2\n",
      "llvmlite                      0.40.1\n",
      "locket                        1.0.0\n",
      "lz4                           4.3.2\n",
      "Mako                          1.2.4\n",
      "mamba                         1.5.2\n",
      "MarkupSafe                    2.1.3\n",
      "matplotlib                    3.8.0\n",
      "matplotlib-inline             0.1.6\n",
      "mistune                       3.0.1\n",
      "mpmath                        1.3.0\n",
      "msgpack                       1.0.6\n",
      "multidict                     6.0.4\n",
      "munkres                       1.1.4\n",
      "nbclassic                     1.0.0\n",
      "nbclient                      0.8.0\n",
      "nbconvert                     7.9.2\n",
      "nbdime                        3.2.1\n",
      "nbformat                      5.9.2\n",
      "neo                           0.12.0\n",
      "neo4j                         5.13.0\n",
      "neo4jrestclient               2.1.1\n",
      "nest-asyncio                  1.5.8\n",
      "networkx                      3.1\n",
      "notebook                      7.0.5\n",
      "notebook_shim                 0.2.3\n",
      "numba                         0.57.1\n",
      "numexpr                       2.8.7\n",
      "numpy                         1.24.4\n",
      "oauthlib                      3.2.2\n",
      "openpyxl                      3.1.2\n",
      "overrides                     7.4.0\n",
      "packaging                     23.2\n",
      "pamela                        1.1.0\n",
      "pandas                        2.1.1\n",
      "pandasql                      0.7.3\n",
      "pandocfilters                 1.5.0\n",
      "parso                         0.8.3\n",
      "partd                         1.4.1\n",
      "patsy                         0.5.3\n",
      "pexpect                       4.8.0\n",
      "pickleshare                   0.7.5\n",
      "Pillow                        10.1.0\n",
      "pip                           23.3\n",
      "pkgutil_resolve_name          1.3.10\n",
      "platformdirs                  3.11.0\n",
      "pluggy                        1.3.0\n",
      "prettytable                   3.9.0\n",
      "prometheus-client             0.17.1\n",
      "prompt-toolkit                3.0.39\n",
      "protobuf                      4.24.3\n",
      "psutil                        5.9.5\n",
      "psycopg2-binary               2.9.9\n",
      "ptyprocess                    0.7.0\n",
      "pure-eval                     0.2.2\n",
      "py-cpuinfo                    9.0.0\n",
      "py2                           0.1.0\n",
      "pyarrow                       13.0.0\n",
      "pycosat                       0.6.6\n",
      "pycparser                     2.21\n",
      "pycurl                        7.45.1\n",
      "pydotplus                     2.0.2\n",
      "Pygments                      2.16.1\n",
      "PyJWT                         2.8.0\n",
      "pymongo                       4.5.0\n",
      "pyOpenSSL                     23.2.0\n",
      "pyparsing                     3.1.1\n",
      "PySocks                       1.7.1\n",
      "python-dateutil               2.8.2\n",
      "python-json-logger            2.0.7\n",
      "pytz                          2023.3.post1\n",
      "PyWavelets                    1.4.1\n",
      "PyYAML                        6.0.1\n",
      "pyzmq                         25.1.1\n",
      "quantities                    0.14.1\n",
      "rdflib                        7.0.0\n",
      "redis                         5.0.1\n",
      "referencing                   0.30.2\n",
      "requests                      2.31.0\n",
      "rfc3339-validator             0.1.4\n",
      "rfc3986-validator             0.1.1\n",
      "rpds-py                       0.10.6\n",
      "rpy2                          3.5.11\n",
      "ruamel.yaml                   0.17.35\n",
      "ruamel.yaml.clib              0.2.7\n",
      "scikit-image                  0.22.0\n",
      "scikit-learn                  1.3.1\n",
      "scipy                         1.11.3\n",
      "seaborn                       0.13.0\n",
      "Send2Trash                    1.8.2\n",
      "setuptools                    68.2.2\n",
      "simpervisor                   1.0.0\n",
      "simplegeneric                 0.8.1\n",
      "six                           1.16.0\n",
      "smmap                         3.0.5\n",
      "sniffio                       1.3.0\n",
      "sortedcontainers              2.4.0\n",
      "soupsieve                     2.5\n",
      "SQLAlchemy                    2.0.22\n",
      "sqlparse                      0.4.4\n",
      "stack-data                    0.6.2\n",
      "statsmodels                   0.14.0\n",
      "sympy                         1.12\n",
      "tables                        3.9.1\n",
      "tblib                         2.0.0\n",
      "terminado                     0.17.1\n",
      "threadpoolctl                 3.2.0\n",
      "tifffile                      2023.9.26\n",
      "tinycss2                      1.2.1\n",
      "tomli                         2.0.1\n",
      "toolz                         0.12.0\n",
      "tornado                       6.3.3\n",
      "tqdm                          4.66.1\n",
      "traitlets                     5.11.2\n",
      "truststore                    0.8.0\n",
      "types-python-dateutil         2.8.19.14\n",
      "typing_extensions             4.8.0\n",
      "typing-utils                  0.1.0\n",
      "tzdata                        2023.3\n",
      "tzlocal                       5.1\n",
      "uri-template                  1.3.0\n",
      "urllib3                       2.0.6\n",
      "wcwidth                       0.2.8\n",
      "webcolors                     1.13\n",
      "webencodings                  0.5.1\n",
      "websocket-client              1.6.4\n",
      "wheel                         0.41.2\n",
      "widgetsnbextension            4.0.9\n",
      "xlrd                          2.0.1\n",
      "xyzservices                   2023.10.0\n",
      "yarl                          1.9.2\n",
      "zict                          3.0.0\n",
      "zipp                          3.17.0\n",
      "zstandard                     0.21.0\n"
     ]
    }
   ],
   "source": [
    "! pip list # verify psycopg2-binary is installed"
   ]
  },
  {
   "cell_type": "markdown",
   "metadata": {},
   "source": [
    "### <font color='purple'>Please make sure that you have all the following packages installed: </font>\n",
    "\n",
    "#### Run the following for importing packages that we will need throught this NB!"
   ]
  },
  {
   "cell_type": "code",
   "execution_count": 3,
   "metadata": {},
   "outputs": [],
   "source": [
    "import psycopg2  #import of the psycopg2 python library\n",
    "import pandas as pd #import of the pandas python library\n",
    "import pandas.io.sql as psql\n",
    "\n",
    "##No transaction is started when commands are executed and no commit() or rollback() is required. \n",
    "from psycopg2.extensions import ISOLATION_LEVEL_AUTOCOMMIT"
   ]
  },
  {
   "cell_type": "markdown",
   "metadata": {},
   "source": [
    "# Task 1: Your First Steps in PostgreSQL"
   ]
  },
  {
   "cell_type": "markdown",
   "metadata": {},
   "source": [
    "### Create a simple RDB (TartuPurchases)\n",
    "- The following DB Model shows an ER diagram of mock, toy DB of two tables with one relationship.\n",
    "- In particular:\n",
    "    - The \"Customer\" Table with attributes (<ins>id</ins>, name, country, email), <font color='red'>Note</font> that underline here means id is the primary_key of the \"customer\" table.\n",
    "    - The \"Order\" table with attributes (<ins>id</ins>, product)\n",
    "    - a (***One-many*** )relationship \"makes\" which relates the two tables (Customer can make several/many Orders, and Order is made by only one Customer).\n",
    "    - One-to- many relationship is handled as follows in the RDBs: (Use a foreign_key on the many side of the relationship linking back to the \"one\" side)\n",
    "    - Therefore, we add the primary key of the one side (Customer) Table as a foreign_key in the many side (Order) table.\n",
    "    - Thus the Order table becomes as follows Order(id,customer_id,product) id is the primary_key and customer_id is a forien_key which references to the id primary_key in the Customer table."
   ]
  },
  {
   "cell_type": "markdown",
   "metadata": {},
   "source": [
    "#### The relational Layout: \n",
    "##### Customer(ID, Name)   --Makes--> ORDER(ID, Customer_ID,Product)\n",
    "<img src='tartupurchasesDB.png'>"
   ]
  },
  {
   "cell_type": "markdown",
   "metadata": {},
   "source": [
    "#### Connecting to the PostgreSQL Server"
   ]
  },
  {
   "cell_type": "code",
   "execution_count": 4,
   "metadata": {},
   "outputs": [
    {
     "name": "stdout",
     "output_type": "stream",
     "text": [
      "Connected Successfully to PostgreSQL server!!\n"
     ]
    }
   ],
   "source": [
    "try:\n",
    "    # Connect to the postgreSQL server with username, and password credentials\n",
    "    con = psycopg2.connect(user = \"postgres\",\n",
    "                                  password = \"postgres\",\n",
    "                                  host = \"postgres\",\n",
    "                                  port = \"5432\")\n",
    "    \n",
    "    con.set_isolation_level(ISOLATION_LEVEL_AUTOCOMMIT);\n",
    "    print(\"Connected Successfully to PostgreSQL server!!\")\n",
    "    \n",
    "    # Obtain a DB Cursor to perform database operations\n",
    "    cursor = con.cursor();\n",
    "except (Exception, psycopg2.Error) as error :\n",
    "     print (\"Error while connecting to PostgreSQL\", error)\n"
   ]
  },
  {
   "cell_type": "markdown",
   "metadata": {},
   "source": [
    "#### Create the \"TarturPurchases\" DB and close connection to the Server"
   ]
  },
  {
   "cell_type": "code",
   "execution_count": 5,
   "metadata": {},
   "outputs": [
    {
     "name": "stdout",
     "output_type": "stream",
     "text": [
      "Database 'TartuPurchases' Created Successfully!\n"
     ]
    }
   ],
   "source": [
    "#DB_name variable    \n",
    "name_Database   = \"TartuPurchases\";\n",
    "\n",
    "# Create DB statement\n",
    "sqlCreateDatabase = \"CREATE DATABASE \"+name_Database+\";\"\n",
    "\n",
    "try:\n",
    "    # Execute a SQL command: this creates a new DB\n",
    "    cursor.execute(sqlCreateDatabase);\n",
    "    print(\"Database '\"+name_Database+\"' Created Successfully!\")\n",
    "except (Exception, psycopg2.Error) as error :\n",
    "    print(\"Error While Creating the DB: \",error)\n",
    "    \n",
    "finally:\n",
    "    # Close communication with the database\n",
    "    cursor.close() #to close the cusrsor\n",
    "    con.close() #to close the connection/ we will open a new connection to the created DB"
   ]
  },
  {
   "cell_type": "markdown",
   "metadata": {},
   "source": [
    "#### Getting some details about the connection"
   ]
  },
  {
   "cell_type": "code",
   "execution_count": 6,
   "metadata": {},
   "outputs": [
    {
     "data": {
      "text/plain": [
       "<connection object at 0x7f30b234de40; dsn: 'user=postgres password=xxx host=postgres port=5432', closed: 1>"
      ]
     },
     "execution_count": 6,
     "metadata": {},
     "output_type": "execute_result"
    }
   ],
   "source": [
    "con"
   ]
  },
  {
   "cell_type": "markdown",
   "metadata": {},
   "source": [
    "#### You can also use the command <code>\\conninfo</code> in the PSQL Shell to show the conection details\n",
    "\n",
    "#### Upload your PSQL Shell Command Result of this command here as an a screenshot "
   ]
  },
  {
   "attachments": {
    "09719b3c-b5b4-45a2-b86d-55ecec5a0dea.png": {
     "image/png": "[encoded data removed]"
    }
   },
   "cell_type": "markdown",
   "metadata": {},
   "source": [
    "##### <font color='red'>Image Here:![image.png](attachment:09719b3c-b5b4-45a2-b86d-55ecec5a0dea.png)</font>"
   ]
  },
  {
   "cell_type": "markdown",
   "metadata": {},
   "source": [
    "#### Get/open  a new connection, but this time pointed to the created \"tartupurchases\" DB."
   ]
  },
  {
   "cell_type": "code",
   "execution_count": 7,
   "metadata": {},
   "outputs": [
    {
     "name": "stdout",
     "output_type": "stream",
     "text": [
      "connected again to the server and cusor now on tartupurchases DB !!\n"
     ]
    }
   ],
   "source": [
    "# get a new connection but this time point to the created \"tartupurchases\" DB.\n",
    "con = psycopg2.connect(user = \"postgres\",\n",
    "                       password = \"postgres\", \n",
    "                       host = \"postgres\", #Using Docker we can refer to containers by name\n",
    "                       port = \"5432\",\n",
    "                       database = \"tartupurchases\")\n",
    "\n",
    "try:\n",
    "    # Obtain a new DB Cursor (to \"tartupurchases\" DB )\n",
    "    cursor = con.cursor();\n",
    "    print(\"connected again to the server and cusor now on tartupurchases DB !!\")\n",
    "except (Exception, psycopg2.Error) as error:\n",
    "    print(\"Error in Connection\",error)"
   ]
  },
  {
   "cell_type": "markdown",
   "metadata": {},
   "source": [
    "#### Creating Our First Table (\"Customer\")"
   ]
  },
  {
   "cell_type": "code",
   "execution_count": 8,
   "metadata": {},
   "outputs": [
    {
     "name": "stdout",
     "output_type": "stream",
     "text": [
      "Table (customer) created successfully in PostgreSQL \n"
     ]
    }
   ],
   "source": [
    "#Create \"Customer\" Table\n",
    "\n",
    "try:\n",
    "    #table_name variable\n",
    "    customerTable=\"customer\"\n",
    "    create_customerTablee_query = '''CREATE TABLE '''+ customerTable+''' \n",
    "              (id INT  PRIMARY KEY     NOT NULL,\n",
    "               name           TEXT    NOT NULL,\n",
    "               country        TEXT    NOT NULL,\n",
    "               email          TEXT   \n",
    "               ); '''\n",
    "\n",
    "    #Execute this command (SQL Query)\n",
    "    cursor.execute(create_customerTablee_query)\n",
    "    \n",
    "    # Make the changes to the database persistent\n",
    "    con.commit()\n",
    "    print(\"Table (\"+ customerTable +\") created successfully in PostgreSQL \")\n",
    "except (Exception, psycopg2.Error) as error:\n",
    "    # if it exits with an exception the transaction is rolled back.\n",
    "    con.rollback()\n",
    "    print(\"Error While Creating the DB: \",error)"
   ]
  },
  {
   "cell_type": "markdown",
   "metadata": {},
   "source": [
    "##### Make sure the table is created "
   ]
  },
  {
   "cell_type": "code",
   "execution_count": 9,
   "metadata": {},
   "outputs": [
    {
     "name": "stdout",
     "output_type": "stream",
     "text": [
      "('customer',)\n"
     ]
    }
   ],
   "source": [
    "# [information_schema.tables] keep listing of every table being managed by Postgres for a particular database.\n",
    "# specifying the tabel_schema to 'public' to only list tables that you create.\n",
    "cursor.execute(\"\"\"SELECT table_name \n",
    "                  FROM information_schema.tables \n",
    "                  WHERE table_schema = 'public'  \n",
    "               \"\"\")\n",
    "\n",
    "for table in cursor.fetchall():\n",
    "    print(table)"
   ]
  },
  {
   "cell_type": "markdown",
   "metadata": {},
   "source": [
    "#### You can also just check this from the <font color='red'>PSQL Shell</font> :\n",
    "- Use the command  <code>\\c  tartupurchases</code> to connect/swtich to the \"pruchases\" DB. \n",
    "- Use the command <code>\\dt</code> to show the tables inside the current DB (\"purchases\")."
   ]
  },
  {
   "cell_type": "markdown",
   "metadata": {},
   "source": [
    "- To get more familiar with PSQL SHELL commands, You can follow this link (https://www.postgresql.org/docs/current/app-psql.html)"
   ]
  },
  {
   "cell_type": "markdown",
   "metadata": {},
   "source": [
    "#### Upload your PSQL Shell Command Result of the created tables here as an a screenshot "
   ]
  },
  {
   "attachments": {
    "3b0013c5-033a-453a-9f96-be27feb39a21.png": {
     "image/png": "[encoded data removed]"
    }
   },
   "cell_type": "markdown",
   "metadata": {},
   "source": [
    "##### <font color='red'>Image Here:![image.png](attachment:3b0013c5-033a-453a-9f96-be27feb39a21.png)</font>"
   ]
  },
  {
   "cell_type": "markdown",
   "metadata": {},
   "source": [
    "#### Show the details(description of the created table \"customer\")\n",
    "- use the command <code>\\d customer</code>"
   ]
  },
  {
   "cell_type": "markdown",
   "metadata": {},
   "source": [
    "#### Upload your PSQL Shell Command Result of the decription of the customer table here:"
   ]
  },
  {
   "attachments": {
    "7948a95f-708c-4c85-81be-3bdba9f19c54.png": {
     "image/png": "[encoded data removed]"
    }
   },
   "cell_type": "markdown",
   "metadata": {},
   "source": [
    "##### <font color='red'>Image Here:![image.png](attachment:7948a95f-708c-4c85-81be-3bdba9f19c54.png)</font>"
   ]
  },
  {
   "cell_type": "markdown",
   "metadata": {},
   "source": [
    "### (Let's Load some data to the table) Inserting Multiple Rows to the Table"
   ]
  },
  {
   "cell_type": "code",
   "execution_count": 10,
   "metadata": {},
   "outputs": [
    {
     "name": "stdout",
     "output_type": "stream",
     "text": [
      "5 Record inserted successfully into customers table\n"
     ]
    }
   ],
   "source": [
    "sql_insert_customers = \"INSERT INTO customer (id,name,country,email) VALUES(%s,%s,%s,%s)\"\n",
    "\n",
    "#list of customers (With Their attributes values)\n",
    "#None here means value will be missing in the table\n",
    "customer_List=[\n",
    "            (1, \"Mohamed Ragab\", \"Egypt\", \"mohamed.ragb@ut.ee\"),\n",
    "            (2,\"John Smith\", \"Finland\",\"j.smith@hotmail.com\"),\n",
    "            (3,\"Aisha Kareem\",\"India\",None),\n",
    "            (4,\"Jean Lime\",\"Canda\",\"jeanlime@gmail.com\"),\n",
    "            (5,\"Hassan Eldeeb\",\"Egypt\",None)]\n",
    "\n",
    "try:\n",
    "    # execute the INSERT statement\n",
    "    cursor.executemany(sql_insert_customers,customer_List)\n",
    "    # commit the changes to the database\n",
    "    con.commit()\n",
    "    #the number of inserted rows/tuples\n",
    "    count = cursor.rowcount\n",
    "    print (count, \"Record inserted successfully into customers table\")\n",
    "\n",
    "except (Exception, psycopg2.Error) as error :\n",
    "    con.rollback()\n",
    "    print (\"Error while Inserting the data to the table, Details: \",error)"
   ]
  },
  {
   "cell_type": "markdown",
   "metadata": {},
   "source": [
    "## Mock Data Generation\n",
    "- If you want to generate more mock data, you can use this website (***\"Mockaroo\"***) (https://www.mockaroo.com/).\n",
    "- \"Mockaroo\" lets you generate up to 1,000 rows of realistic test data in CSV, JSON, SQL, and Excel formats.\n",
    "<img src='https://www.qlikfix.com/wp-content/uploads/2014/03/Mockaroo.png'>"
   ]
  },
  {
   "cell_type": "markdown",
   "metadata": {},
   "source": [
    "## Querying Table Data"
   ]
  },
  {
   "cell_type": "markdown",
   "metadata": {},
   "source": [
    "#### Get all the Customers in the DB"
   ]
  },
  {
   "cell_type": "code",
   "execution_count": 11,
   "metadata": {},
   "outputs": [
    {
     "name": "stdout",
     "output_type": "stream",
     "text": [
      "Print each row and it's columns values:\n",
      "\n",
      "Id =  1\n",
      "Name =  Mohamed Ragab\n",
      "Country =  Egypt\n",
      "Email =  mohamed.ragb@ut.ee \n",
      "\n",
      "Id =  2\n",
      "Name =  John Smith\n",
      "Country =  Finland\n",
      "Email =  j.smith@hotmail.com \n",
      "\n",
      "Id =  3\n",
      "Name =  Aisha Kareem\n",
      "Country =  India\n",
      "Email =  None \n",
      "\n",
      "Id =  4\n",
      "Name =  Jean Lime\n",
      "Country =  Canda\n",
      "Email =  jeanlime@gmail.com \n",
      "\n",
      "Id =  5\n",
      "Name =  Hassan Eldeeb\n",
      "Country =  Egypt\n",
      "Email =  None \n",
      "\n"
     ]
    }
   ],
   "source": [
    "sql_select_query = \"\"\" SELECT * FROM customer  \"\"\"\n",
    "\n",
    "try:\n",
    "    \n",
    "    cursor.execute(sql_select_query, (1,))\n",
    "    person_records = cursor.fetchall() \n",
    "    print(\"Print each row and it's columns values:\\n\")\n",
    "    for row in person_records:\n",
    "        print(\"Id = \", row[0], )\n",
    "        print(\"Name = \", row[1], )\n",
    "        print(\"Country = \", row[2], )\n",
    "        print(\"Email = \", row[3], \"\\n\")\n",
    "except(Exception, psycopg2.Error) as error :\n",
    "    con.rollback()\n",
    "    print(\"Error:\", error)"
   ]
  },
  {
   "cell_type": "markdown",
   "metadata": {},
   "source": [
    "#### Notes about the Rows Fetching (Retrieval) From tables in PostgreSQL: \n",
    "- In the above example, we used **cursor.fetchall()** to get all the rows of a database table.\n",
    "    -    **cursor.fetchall()** to fetch all rows.\n",
    "    -    **cursor.fetchone()** to fetch single row.\n",
    "    -    **cursor.fetchmany(SIZE)** to fetch limited rows."
   ]
  },
  {
   "cell_type": "markdown",
   "metadata": {},
   "source": [
    "#### You can use \"Pandas\" library to print the result in tabular format"
   ]
  },
  {
   "cell_type": "code",
   "execution_count": 12,
   "metadata": {},
   "outputs": [
    {
     "name": "stderr",
     "output_type": "stream",
     "text": [
      "/tmp/ipykernel_366/4044305920.py:3: UserWarning: pandas only supports SQLAlchemy connectable (engine/connection) or database string URI or sqlite3 DBAPI2 connection. Other DBAPI2 objects are not tested. Please consider using SQLAlchemy.\n",
      "  my_table = pd.read_sql(\"\"\" SELECT * FROM customer\"\"\", con)\n"
     ]
    },
    {
     "data": {
      "text/html": [
       "<div>\n",
       "<style scoped>\n",
       "    .dataframe tbody tr th:only-of-type {\n",
       "        vertical-align: middle;\n",
       "    }\n",
       "\n",
       "    .dataframe tbody tr th {\n",
       "        vertical-align: top;\n",
       "    }\n",
       "\n",
       "    .dataframe thead th {\n",
       "        text-align: right;\n",
       "    }\n",
       "</style>\n",
       "<table border=\"1\" class=\"dataframe\">\n",
       "  <thead>\n",
       "    <tr style=\"text-align: right;\">\n",
       "      <th></th>\n",
       "      <th>id</th>\n",
       "      <th>name</th>\n",
       "      <th>country</th>\n",
       "      <th>email</th>\n",
       "    </tr>\n",
       "  </thead>\n",
       "  <tbody>\n",
       "    <tr>\n",
       "      <th>0</th>\n",
       "      <td>1</td>\n",
       "      <td>Mohamed Ragab</td>\n",
       "      <td>Egypt</td>\n",
       "      <td>mohamed.ragb@ut.ee</td>\n",
       "    </tr>\n",
       "    <tr>\n",
       "      <th>1</th>\n",
       "      <td>2</td>\n",
       "      <td>John Smith</td>\n",
       "      <td>Finland</td>\n",
       "      <td>j.smith@hotmail.com</td>\n",
       "    </tr>\n",
       "    <tr>\n",
       "      <th>2</th>\n",
       "      <td>3</td>\n",
       "      <td>Aisha Kareem</td>\n",
       "      <td>India</td>\n",
       "      <td>None</td>\n",
       "    </tr>\n",
       "    <tr>\n",
       "      <th>3</th>\n",
       "      <td>4</td>\n",
       "      <td>Jean Lime</td>\n",
       "      <td>Canda</td>\n",
       "      <td>jeanlime@gmail.com</td>\n",
       "    </tr>\n",
       "    <tr>\n",
       "      <th>4</th>\n",
       "      <td>5</td>\n",
       "      <td>Hassan Eldeeb</td>\n",
       "      <td>Egypt</td>\n",
       "      <td>None</td>\n",
       "    </tr>\n",
       "  </tbody>\n",
       "</table>\n",
       "</div>"
      ],
      "text/plain": [
       "   id           name  country                email\n",
       "0   1  Mohamed Ragab    Egypt   mohamed.ragb@ut.ee\n",
       "1   2     John Smith  Finland  j.smith@hotmail.com\n",
       "2   3   Aisha Kareem    India                 None\n",
       "3   4      Jean Lime    Canda   jeanlime@gmail.com\n",
       "4   5  Hassan Eldeeb    Egypt                 None"
      ]
     },
     "metadata": {},
     "output_type": "display_data"
    }
   ],
   "source": [
    "#use Pandas to print the result in tabular form\n",
    "# Don't RUN before you put your SQL Query\n",
    "my_table = pd.read_sql(\"\"\" SELECT * FROM customer\"\"\", con)\n",
    "##display(my_table.style.hide_index())\n",
    "display(my_table)"
   ]
  },
  {
   "cell_type": "markdown",
   "metadata": {},
   "source": [
    "#### Get only the <font color='red'>names</font>  and <font color='red'>countries</font> of all the Customers in the DB [Projection]"
   ]
  },
  {
   "cell_type": "code",
   "execution_count": 13,
   "metadata": {},
   "outputs": [
    {
     "name": "stderr",
     "output_type": "stream",
     "text": [
      "/tmp/ipykernel_366/2501717367.py:4: UserWarning: pandas only supports SQLAlchemy connectable (engine/connection) or database string URI or sqlite3 DBAPI2 connection. Other DBAPI2 objects are not tested. Please consider using SQLAlchemy.\n",
      "  projected_DF= psql.read_sql(sql_project_query, con)\n"
     ]
    },
    {
     "data": {
      "text/html": [
       "<div>\n",
       "<style scoped>\n",
       "    .dataframe tbody tr th:only-of-type {\n",
       "        vertical-align: middle;\n",
       "    }\n",
       "\n",
       "    .dataframe tbody tr th {\n",
       "        vertical-align: top;\n",
       "    }\n",
       "\n",
       "    .dataframe thead th {\n",
       "        text-align: right;\n",
       "    }\n",
       "</style>\n",
       "<table border=\"1\" class=\"dataframe\">\n",
       "  <thead>\n",
       "    <tr style=\"text-align: right;\">\n",
       "      <th></th>\n",
       "      <th>name</th>\n",
       "      <th>country</th>\n",
       "    </tr>\n",
       "  </thead>\n",
       "  <tbody>\n",
       "    <tr>\n",
       "      <th>0</th>\n",
       "      <td>Mohamed Ragab</td>\n",
       "      <td>Egypt</td>\n",
       "    </tr>\n",
       "    <tr>\n",
       "      <th>1</th>\n",
       "      <td>John Smith</td>\n",
       "      <td>Finland</td>\n",
       "    </tr>\n",
       "    <tr>\n",
       "      <th>2</th>\n",
       "      <td>Aisha Kareem</td>\n",
       "      <td>India</td>\n",
       "    </tr>\n",
       "    <tr>\n",
       "      <th>3</th>\n",
       "      <td>Jean Lime</td>\n",
       "      <td>Canda</td>\n",
       "    </tr>\n",
       "    <tr>\n",
       "      <th>4</th>\n",
       "      <td>Hassan Eldeeb</td>\n",
       "      <td>Egypt</td>\n",
       "    </tr>\n",
       "  </tbody>\n",
       "</table>\n",
       "</div>"
      ],
      "text/plain": [
       "            name  country\n",
       "0  Mohamed Ragab    Egypt\n",
       "1     John Smith  Finland\n",
       "2   Aisha Kareem    India\n",
       "3      Jean Lime    Canda\n",
       "4  Hassan Eldeeb    Egypt"
      ]
     },
     "metadata": {},
     "output_type": "display_data"
    }
   ],
   "source": [
    "# Don't RUN before you put your SQL Query\n",
    "sql_project_query = \"\"\" SELECT name, country FROM customer\"\"\"\n",
    "\n",
    "projected_DF= psql.read_sql(sql_project_query, con)\n",
    "display(projected_DF)"
   ]
  },
  {
   "cell_type": "markdown",
   "metadata": {},
   "source": [
    "## Sorting the Results\n",
    "\n",
    "#### Get All Customers , sorted by country Ascednding"
   ]
  },
  {
   "cell_type": "code",
   "execution_count": 14,
   "metadata": {},
   "outputs": [
    {
     "name": "stderr",
     "output_type": "stream",
     "text": [
      "/tmp/ipykernel_366/1931594585.py:1: UserWarning: pandas only supports SQLAlchemy connectable (engine/connection) or database string URI or sqlite3 DBAPI2 connection. Other DBAPI2 objects are not tested. Please consider using SQLAlchemy.\n",
      "  ord_customers_by_country= psql.read_sql(\"SELECT * FROM customer ORDER BY country ASC\", con)\n"
     ]
    },
    {
     "data": {
      "text/html": [
       "<div>\n",
       "<style scoped>\n",
       "    .dataframe tbody tr th:only-of-type {\n",
       "        vertical-align: middle;\n",
       "    }\n",
       "\n",
       "    .dataframe tbody tr th {\n",
       "        vertical-align: top;\n",
       "    }\n",
       "\n",
       "    .dataframe thead th {\n",
       "        text-align: right;\n",
       "    }\n",
       "</style>\n",
       "<table border=\"1\" class=\"dataframe\">\n",
       "  <thead>\n",
       "    <tr style=\"text-align: right;\">\n",
       "      <th></th>\n",
       "      <th>id</th>\n",
       "      <th>name</th>\n",
       "      <th>country</th>\n",
       "      <th>email</th>\n",
       "    </tr>\n",
       "  </thead>\n",
       "  <tbody>\n",
       "    <tr>\n",
       "      <th>0</th>\n",
       "      <td>4</td>\n",
       "      <td>Jean Lime</td>\n",
       "      <td>Canda</td>\n",
       "      <td>jeanlime@gmail.com</td>\n",
       "    </tr>\n",
       "    <tr>\n",
       "      <th>1</th>\n",
       "      <td>1</td>\n",
       "      <td>Mohamed Ragab</td>\n",
       "      <td>Egypt</td>\n",
       "      <td>mohamed.ragb@ut.ee</td>\n",
       "    </tr>\n",
       "    <tr>\n",
       "      <th>2</th>\n",
       "      <td>5</td>\n",
       "      <td>Hassan Eldeeb</td>\n",
       "      <td>Egypt</td>\n",
       "      <td>None</td>\n",
       "    </tr>\n",
       "    <tr>\n",
       "      <th>3</th>\n",
       "      <td>2</td>\n",
       "      <td>John Smith</td>\n",
       "      <td>Finland</td>\n",
       "      <td>j.smith@hotmail.com</td>\n",
       "    </tr>\n",
       "    <tr>\n",
       "      <th>4</th>\n",
       "      <td>3</td>\n",
       "      <td>Aisha Kareem</td>\n",
       "      <td>India</td>\n",
       "      <td>None</td>\n",
       "    </tr>\n",
       "  </tbody>\n",
       "</table>\n",
       "</div>"
      ],
      "text/plain": [
       "   id           name  country                email\n",
       "0   4      Jean Lime    Canda   jeanlime@gmail.com\n",
       "1   1  Mohamed Ragab    Egypt   mohamed.ragb@ut.ee\n",
       "2   5  Hassan Eldeeb    Egypt                 None\n",
       "3   2     John Smith  Finland  j.smith@hotmail.com\n",
       "4   3   Aisha Kareem    India                 None"
      ]
     },
     "metadata": {},
     "output_type": "display_data"
    }
   ],
   "source": [
    "ord_customers_by_country= psql.read_sql(\"SELECT * FROM customer ORDER BY country ASC\", con)\n",
    "display(ord_customers_by_country)"
   ]
  },
  {
   "cell_type": "markdown",
   "metadata": {},
   "source": [
    "- **Note**: By Default Sorting in SQL is Ascending order!"
   ]
  },
  {
   "cell_type": "markdown",
   "metadata": {},
   "source": [
    "#### Get All Customers , sorted by names Descednding"
   ]
  },
  {
   "cell_type": "code",
   "execution_count": 15,
   "metadata": {},
   "outputs": [
    {
     "name": "stderr",
     "output_type": "stream",
     "text": [
      "/tmp/ipykernel_366/2029029160.py:2: UserWarning: pandas only supports SQLAlchemy connectable (engine/connection) or database string URI or sqlite3 DBAPI2 connection. Other DBAPI2 objects are not tested. Please consider using SQLAlchemy.\n",
      "  ord_customers_by_name= psql.read_sql(\" SELECT * FROM customer ORDER BY name DESC\", con)\n"
     ]
    },
    {
     "data": {
      "text/html": [
       "<div>\n",
       "<style scoped>\n",
       "    .dataframe tbody tr th:only-of-type {\n",
       "        vertical-align: middle;\n",
       "    }\n",
       "\n",
       "    .dataframe tbody tr th {\n",
       "        vertical-align: top;\n",
       "    }\n",
       "\n",
       "    .dataframe thead th {\n",
       "        text-align: right;\n",
       "    }\n",
       "</style>\n",
       "<table border=\"1\" class=\"dataframe\">\n",
       "  <thead>\n",
       "    <tr style=\"text-align: right;\">\n",
       "      <th></th>\n",
       "      <th>id</th>\n",
       "      <th>name</th>\n",
       "      <th>country</th>\n",
       "      <th>email</th>\n",
       "    </tr>\n",
       "  </thead>\n",
       "  <tbody>\n",
       "    <tr>\n",
       "      <th>0</th>\n",
       "      <td>1</td>\n",
       "      <td>Mohamed Ragab</td>\n",
       "      <td>Egypt</td>\n",
       "      <td>mohamed.ragb@ut.ee</td>\n",
       "    </tr>\n",
       "    <tr>\n",
       "      <th>1</th>\n",
       "      <td>2</td>\n",
       "      <td>John Smith</td>\n",
       "      <td>Finland</td>\n",
       "      <td>j.smith@hotmail.com</td>\n",
       "    </tr>\n",
       "    <tr>\n",
       "      <th>2</th>\n",
       "      <td>4</td>\n",
       "      <td>Jean Lime</td>\n",
       "      <td>Canda</td>\n",
       "      <td>jeanlime@gmail.com</td>\n",
       "    </tr>\n",
       "    <tr>\n",
       "      <th>3</th>\n",
       "      <td>5</td>\n",
       "      <td>Hassan Eldeeb</td>\n",
       "      <td>Egypt</td>\n",
       "      <td>None</td>\n",
       "    </tr>\n",
       "    <tr>\n",
       "      <th>4</th>\n",
       "      <td>3</td>\n",
       "      <td>Aisha Kareem</td>\n",
       "      <td>India</td>\n",
       "      <td>None</td>\n",
       "    </tr>\n",
       "  </tbody>\n",
       "</table>\n",
       "</div>"
      ],
      "text/plain": [
       "   id           name  country                email\n",
       "0   1  Mohamed Ragab    Egypt   mohamed.ragb@ut.ee\n",
       "1   2     John Smith  Finland  j.smith@hotmail.com\n",
       "2   4      Jean Lime    Canda   jeanlime@gmail.com\n",
       "3   5  Hassan Eldeeb    Egypt                 None\n",
       "4   3   Aisha Kareem    India                 None"
      ]
     },
     "metadata": {},
     "output_type": "display_data"
    }
   ],
   "source": [
    "# Don't RUN before you put your SQL Query\n",
    "ord_customers_by_name= psql.read_sql(\" SELECT * FROM customer ORDER BY name DESC\", con)\n",
    "display(ord_customers_by_name)"
   ]
  },
  {
   "cell_type": "markdown",
   "metadata": {},
   "source": [
    "#### Get Distinct Countries of customers From Customer table "
   ]
  },
  {
   "cell_type": "code",
   "execution_count": 16,
   "metadata": {},
   "outputs": [
    {
     "name": "stderr",
     "output_type": "stream",
     "text": [
      "/tmp/ipykernel_366/2322178642.py:2: UserWarning: pandas only supports SQLAlchemy connectable (engine/connection) or database string URI or sqlite3 DBAPI2 connection. Other DBAPI2 objects are not tested. Please consider using SQLAlchemy.\n",
      "  distinctCountries= psql.read_sql(\"SELECT DISTINCT country FROM customer\", con)\n"
     ]
    },
    {
     "data": {
      "text/html": [
       "<div>\n",
       "<style scoped>\n",
       "    .dataframe tbody tr th:only-of-type {\n",
       "        vertical-align: middle;\n",
       "    }\n",
       "\n",
       "    .dataframe tbody tr th {\n",
       "        vertical-align: top;\n",
       "    }\n",
       "\n",
       "    .dataframe thead th {\n",
       "        text-align: right;\n",
       "    }\n",
       "</style>\n",
       "<table border=\"1\" class=\"dataframe\">\n",
       "  <thead>\n",
       "    <tr style=\"text-align: right;\">\n",
       "      <th></th>\n",
       "      <th>country</th>\n",
       "    </tr>\n",
       "  </thead>\n",
       "  <tbody>\n",
       "    <tr>\n",
       "      <th>0</th>\n",
       "      <td>Finland</td>\n",
       "    </tr>\n",
       "    <tr>\n",
       "      <th>1</th>\n",
       "      <td>Egypt</td>\n",
       "    </tr>\n",
       "    <tr>\n",
       "      <th>2</th>\n",
       "      <td>India</td>\n",
       "    </tr>\n",
       "    <tr>\n",
       "      <th>3</th>\n",
       "      <td>Canda</td>\n",
       "    </tr>\n",
       "  </tbody>\n",
       "</table>\n",
       "</div>"
      ],
      "text/plain": [
       "   country\n",
       "0  Finland\n",
       "1    Egypt\n",
       "2    India\n",
       "3    Canda"
      ]
     },
     "metadata": {},
     "output_type": "display_data"
    }
   ],
   "source": [
    "# Don't RUN before you put your SQL Query\n",
    "distinctCountries= psql.read_sql(\"SELECT DISTINCT country FROM customer\", con)\n",
    "display(distinctCountries)"
   ]
  },
  {
   "cell_type": "markdown",
   "metadata": {},
   "source": [
    "### Filtering the Results (Use the WHERE & AND)"
   ]
  },
  {
   "cell_type": "markdown",
   "metadata": {},
   "source": [
    "#### Get only the customers who have emails (filter out who don't have)"
   ]
  },
  {
   "cell_type": "code",
   "execution_count": 17,
   "metadata": {},
   "outputs": [
    {
     "name": "stderr",
     "output_type": "stream",
     "text": [
      "/tmp/ipykernel_366/2755307949.py:1: UserWarning: pandas only supports SQLAlchemy connectable (engine/connection) or database string URI or sqlite3 DBAPI2 connection. Other DBAPI2 objects are not tested. Please consider using SQLAlchemy.\n",
      "  customersWithEmails= psql.read_sql(\"SELECT * FROM customer WHERE email != ''  \", con)\n"
     ]
    },
    {
     "data": {
      "text/html": [
       "<div>\n",
       "<style scoped>\n",
       "    .dataframe tbody tr th:only-of-type {\n",
       "        vertical-align: middle;\n",
       "    }\n",
       "\n",
       "    .dataframe tbody tr th {\n",
       "        vertical-align: top;\n",
       "    }\n",
       "\n",
       "    .dataframe thead th {\n",
       "        text-align: right;\n",
       "    }\n",
       "</style>\n",
       "<table border=\"1\" class=\"dataframe\">\n",
       "  <thead>\n",
       "    <tr style=\"text-align: right;\">\n",
       "      <th></th>\n",
       "      <th>id</th>\n",
       "      <th>name</th>\n",
       "      <th>country</th>\n",
       "      <th>email</th>\n",
       "    </tr>\n",
       "  </thead>\n",
       "  <tbody>\n",
       "    <tr>\n",
       "      <th>0</th>\n",
       "      <td>1</td>\n",
       "      <td>Mohamed Ragab</td>\n",
       "      <td>Egypt</td>\n",
       "      <td>mohamed.ragb@ut.ee</td>\n",
       "    </tr>\n",
       "    <tr>\n",
       "      <th>1</th>\n",
       "      <td>2</td>\n",
       "      <td>John Smith</td>\n",
       "      <td>Finland</td>\n",
       "      <td>j.smith@hotmail.com</td>\n",
       "    </tr>\n",
       "    <tr>\n",
       "      <th>2</th>\n",
       "      <td>4</td>\n",
       "      <td>Jean Lime</td>\n",
       "      <td>Canda</td>\n",
       "      <td>jeanlime@gmail.com</td>\n",
       "    </tr>\n",
       "  </tbody>\n",
       "</table>\n",
       "</div>"
      ],
      "text/plain": [
       "   id           name  country                email\n",
       "0   1  Mohamed Ragab    Egypt   mohamed.ragb@ut.ee\n",
       "1   2     John Smith  Finland  j.smith@hotmail.com\n",
       "2   4      Jean Lime    Canda   jeanlime@gmail.com"
      ]
     },
     "metadata": {},
     "output_type": "display_data"
    }
   ],
   "source": [
    "customersWithEmails= psql.read_sql(\"SELECT * FROM customer WHERE email != ''  \", con)\n",
    "display(customersWithEmails)"
   ]
  },
  {
   "cell_type": "markdown",
   "metadata": {},
   "source": [
    "#### Get customers who live in \"Egypt\""
   ]
  },
  {
   "cell_type": "code",
   "execution_count": 18,
   "metadata": {},
   "outputs": [
    {
     "name": "stderr",
     "output_type": "stream",
     "text": [
      "/tmp/ipykernel_366/1431170981.py:2: UserWarning: pandas only supports SQLAlchemy connectable (engine/connection) or database string URI or sqlite3 DBAPI2 connection. Other DBAPI2 objects are not tested. Please consider using SQLAlchemy.\n",
      "  theEgyptian= psql.read_sql(\"SELECT * FROM customer WHERE country = 'Egypt'\", con)\n"
     ]
    },
    {
     "data": {
      "text/html": [
       "<div>\n",
       "<style scoped>\n",
       "    .dataframe tbody tr th:only-of-type {\n",
       "        vertical-align: middle;\n",
       "    }\n",
       "\n",
       "    .dataframe tbody tr th {\n",
       "        vertical-align: top;\n",
       "    }\n",
       "\n",
       "    .dataframe thead th {\n",
       "        text-align: right;\n",
       "    }\n",
       "</style>\n",
       "<table border=\"1\" class=\"dataframe\">\n",
       "  <thead>\n",
       "    <tr style=\"text-align: right;\">\n",
       "      <th></th>\n",
       "      <th>id</th>\n",
       "      <th>name</th>\n",
       "      <th>country</th>\n",
       "      <th>email</th>\n",
       "    </tr>\n",
       "  </thead>\n",
       "  <tbody>\n",
       "    <tr>\n",
       "      <th>0</th>\n",
       "      <td>1</td>\n",
       "      <td>Mohamed Ragab</td>\n",
       "      <td>Egypt</td>\n",
       "      <td>mohamed.ragb@ut.ee</td>\n",
       "    </tr>\n",
       "    <tr>\n",
       "      <th>1</th>\n",
       "      <td>5</td>\n",
       "      <td>Hassan Eldeeb</td>\n",
       "      <td>Egypt</td>\n",
       "      <td>None</td>\n",
       "    </tr>\n",
       "  </tbody>\n",
       "</table>\n",
       "</div>"
      ],
      "text/plain": [
       "   id           name country               email\n",
       "0   1  Mohamed Ragab   Egypt  mohamed.ragb@ut.ee\n",
       "1   5  Hassan Eldeeb   Egypt                None"
      ]
     },
     "metadata": {},
     "output_type": "display_data"
    }
   ],
   "source": [
    "# Don't RUN before you put your SQL Query\n",
    "theEgyptian= psql.read_sql(\"SELECT * FROM customer WHERE country = 'Egypt'\", con)\n",
    "display(theEgyptian)"
   ]
  },
  {
   "cell_type": "markdown",
   "metadata": {},
   "source": [
    "#### Get customers who are from Egypt and already have emails"
   ]
  },
  {
   "cell_type": "code",
   "execution_count": 19,
   "metadata": {},
   "outputs": [
    {
     "name": "stderr",
     "output_type": "stream",
     "text": [
      "/tmp/ipykernel_366/1393397703.py:2: UserWarning: pandas only supports SQLAlchemy connectable (engine/connection) or database string URI or sqlite3 DBAPI2 connection. Other DBAPI2 objects are not tested. Please consider using SQLAlchemy.\n",
      "  theEgyptianWithEmail= psql.read_sql(\"SELECT * FROM customer WHERE email != '' AND country='Egypt'\", con)\n"
     ]
    },
    {
     "data": {
      "text/html": [
       "<div>\n",
       "<style scoped>\n",
       "    .dataframe tbody tr th:only-of-type {\n",
       "        vertical-align: middle;\n",
       "    }\n",
       "\n",
       "    .dataframe tbody tr th {\n",
       "        vertical-align: top;\n",
       "    }\n",
       "\n",
       "    .dataframe thead th {\n",
       "        text-align: right;\n",
       "    }\n",
       "</style>\n",
       "<table border=\"1\" class=\"dataframe\">\n",
       "  <thead>\n",
       "    <tr style=\"text-align: right;\">\n",
       "      <th></th>\n",
       "      <th>id</th>\n",
       "      <th>name</th>\n",
       "      <th>country</th>\n",
       "      <th>email</th>\n",
       "    </tr>\n",
       "  </thead>\n",
       "  <tbody>\n",
       "    <tr>\n",
       "      <th>0</th>\n",
       "      <td>1</td>\n",
       "      <td>Mohamed Ragab</td>\n",
       "      <td>Egypt</td>\n",
       "      <td>mohamed.ragb@ut.ee</td>\n",
       "    </tr>\n",
       "  </tbody>\n",
       "</table>\n",
       "</div>"
      ],
      "text/plain": [
       "   id           name country               email\n",
       "0   1  Mohamed Ragab   Egypt  mohamed.ragb@ut.ee"
      ]
     },
     "metadata": {},
     "output_type": "display_data"
    }
   ],
   "source": [
    "# Don't RUN before you put your SQL Query\n",
    "theEgyptianWithEmail= psql.read_sql(\"SELECT * FROM customer WHERE email != '' AND country='Egypt'\", con)\n",
    "display(theEgyptianWithEmail)"
   ]
  },
  {
   "cell_type": "markdown",
   "metadata": {},
   "source": [
    "#### Get customers who's name starts with Letter \"J\""
   ]
  },
  {
   "cell_type": "code",
   "execution_count": 20,
   "metadata": {},
   "outputs": [
    {
     "name": "stderr",
     "output_type": "stream",
     "text": [
      "/tmp/ipykernel_366/2538822358.py:1: UserWarning: pandas only supports SQLAlchemy connectable (engine/connection) or database string URI or sqlite3 DBAPI2 connection. Other DBAPI2 objects are not tested. Please consider using SQLAlchemy.\n",
      "  J_Customers= psql.read_sql(\"SELECT * FROM customer WHERE name LIKE 'J%' \", con)\n"
     ]
    },
    {
     "data": {
      "text/html": [
       "<div>\n",
       "<style scoped>\n",
       "    .dataframe tbody tr th:only-of-type {\n",
       "        vertical-align: middle;\n",
       "    }\n",
       "\n",
       "    .dataframe tbody tr th {\n",
       "        vertical-align: top;\n",
       "    }\n",
       "\n",
       "    .dataframe thead th {\n",
       "        text-align: right;\n",
       "    }\n",
       "</style>\n",
       "<table border=\"1\" class=\"dataframe\">\n",
       "  <thead>\n",
       "    <tr style=\"text-align: right;\">\n",
       "      <th></th>\n",
       "      <th>id</th>\n",
       "      <th>name</th>\n",
       "      <th>country</th>\n",
       "      <th>email</th>\n",
       "    </tr>\n",
       "  </thead>\n",
       "  <tbody>\n",
       "    <tr>\n",
       "      <th>0</th>\n",
       "      <td>2</td>\n",
       "      <td>John Smith</td>\n",
       "      <td>Finland</td>\n",
       "      <td>j.smith@hotmail.com</td>\n",
       "    </tr>\n",
       "    <tr>\n",
       "      <th>1</th>\n",
       "      <td>4</td>\n",
       "      <td>Jean Lime</td>\n",
       "      <td>Canda</td>\n",
       "      <td>jeanlime@gmail.com</td>\n",
       "    </tr>\n",
       "  </tbody>\n",
       "</table>\n",
       "</div>"
      ],
      "text/plain": [
       "   id        name  country                email\n",
       "0   2  John Smith  Finland  j.smith@hotmail.com\n",
       "1   4   Jean Lime    Canda   jeanlime@gmail.com"
      ]
     },
     "metadata": {},
     "output_type": "display_data"
    }
   ],
   "source": [
    "J_Customers= psql.read_sql(\"SELECT * FROM customer WHERE name LIKE 'J%' \", con)\n",
    "display(J_Customers)"
   ]
  },
  {
   "cell_type": "markdown",
   "metadata": {},
   "source": [
    "### Pagination  in SQL, using \"LIMT\" and \"OFFSET\""
   ]
  },
  {
   "cell_type": "markdown",
   "metadata": {},
   "source": [
    "#### Get only the first 3 Customers from the customers table"
   ]
  },
  {
   "cell_type": "code",
   "execution_count": 21,
   "metadata": {},
   "outputs": [
    {
     "name": "stderr",
     "output_type": "stream",
     "text": [
      "/tmp/ipykernel_366/2491986243.py:1: UserWarning: pandas only supports SQLAlchemy connectable (engine/connection) or database string URI or sqlite3 DBAPI2 connection. Other DBAPI2 objects are not tested. Please consider using SQLAlchemy.\n",
      "  first_3_Customers= psql.read_sql(\"SELECT * FROM customer LIMIT 3 \", con)\n"
     ]
    },
    {
     "data": {
      "text/html": [
       "<div>\n",
       "<style scoped>\n",
       "    .dataframe tbody tr th:only-of-type {\n",
       "        vertical-align: middle;\n",
       "    }\n",
       "\n",
       "    .dataframe tbody tr th {\n",
       "        vertical-align: top;\n",
       "    }\n",
       "\n",
       "    .dataframe thead th {\n",
       "        text-align: right;\n",
       "    }\n",
       "</style>\n",
       "<table border=\"1\" class=\"dataframe\">\n",
       "  <thead>\n",
       "    <tr style=\"text-align: right;\">\n",
       "      <th></th>\n",
       "      <th>id</th>\n",
       "      <th>name</th>\n",
       "      <th>country</th>\n",
       "      <th>email</th>\n",
       "    </tr>\n",
       "  </thead>\n",
       "  <tbody>\n",
       "    <tr>\n",
       "      <th>0</th>\n",
       "      <td>1</td>\n",
       "      <td>Mohamed Ragab</td>\n",
       "      <td>Egypt</td>\n",
       "      <td>mohamed.ragb@ut.ee</td>\n",
       "    </tr>\n",
       "    <tr>\n",
       "      <th>1</th>\n",
       "      <td>2</td>\n",
       "      <td>John Smith</td>\n",
       "      <td>Finland</td>\n",
       "      <td>j.smith@hotmail.com</td>\n",
       "    </tr>\n",
       "    <tr>\n",
       "      <th>2</th>\n",
       "      <td>3</td>\n",
       "      <td>Aisha Kareem</td>\n",
       "      <td>India</td>\n",
       "      <td>None</td>\n",
       "    </tr>\n",
       "  </tbody>\n",
       "</table>\n",
       "</div>"
      ],
      "text/plain": [
       "   id           name  country                email\n",
       "0   1  Mohamed Ragab    Egypt   mohamed.ragb@ut.ee\n",
       "1   2     John Smith  Finland  j.smith@hotmail.com\n",
       "2   3   Aisha Kareem    India                 None"
      ]
     },
     "metadata": {},
     "output_type": "display_data"
    }
   ],
   "source": [
    "first_3_Customers= psql.read_sql(\"SELECT * FROM customer LIMIT 3 \", con)\n",
    "display(first_3_Customers)"
   ]
  },
  {
   "cell_type": "markdown",
   "metadata": {},
   "source": [
    "#### skipt the First 3 Customers and get the next 3 customers"
   ]
  },
  {
   "cell_type": "code",
   "execution_count": 22,
   "metadata": {},
   "outputs": [
    {
     "name": "stderr",
     "output_type": "stream",
     "text": [
      "/tmp/ipykernel_366/2615024843.py:1: UserWarning: pandas only supports SQLAlchemy connectable (engine/connection) or database string URI or sqlite3 DBAPI2 connection. Other DBAPI2 objects are not tested. Please consider using SQLAlchemy.\n",
      "  next_3_Customers= psql.read_sql(\"SELECT * FROM customer OFFSET 3 LIMIT 3 \", con)\n"
     ]
    },
    {
     "data": {
      "text/html": [
       "<div>\n",
       "<style scoped>\n",
       "    .dataframe tbody tr th:only-of-type {\n",
       "        vertical-align: middle;\n",
       "    }\n",
       "\n",
       "    .dataframe tbody tr th {\n",
       "        vertical-align: top;\n",
       "    }\n",
       "\n",
       "    .dataframe thead th {\n",
       "        text-align: right;\n",
       "    }\n",
       "</style>\n",
       "<table border=\"1\" class=\"dataframe\">\n",
       "  <thead>\n",
       "    <tr style=\"text-align: right;\">\n",
       "      <th></th>\n",
       "      <th>id</th>\n",
       "      <th>name</th>\n",
       "      <th>country</th>\n",
       "      <th>email</th>\n",
       "    </tr>\n",
       "  </thead>\n",
       "  <tbody>\n",
       "    <tr>\n",
       "      <th>0</th>\n",
       "      <td>4</td>\n",
       "      <td>Jean Lime</td>\n",
       "      <td>Canda</td>\n",
       "      <td>jeanlime@gmail.com</td>\n",
       "    </tr>\n",
       "    <tr>\n",
       "      <th>1</th>\n",
       "      <td>5</td>\n",
       "      <td>Hassan Eldeeb</td>\n",
       "      <td>Egypt</td>\n",
       "      <td>None</td>\n",
       "    </tr>\n",
       "  </tbody>\n",
       "</table>\n",
       "</div>"
      ],
      "text/plain": [
       "   id           name country               email\n",
       "0   4      Jean Lime   Canda  jeanlime@gmail.com\n",
       "1   5  Hassan Eldeeb   Egypt                None"
      ]
     },
     "metadata": {},
     "output_type": "display_data"
    }
   ],
   "source": [
    "next_3_Customers= psql.read_sql(\"SELECT * FROM customer OFFSET 3 LIMIT 3 \", con)\n",
    "display(next_3_Customers)"
   ]
  },
  {
   "cell_type": "markdown",
   "metadata": {},
   "source": [
    "#### Try another way to ge the same result of the previous cell\n",
    "- **Hint** : use OFFSET with FETCH FIRST"
   ]
  },
  {
   "cell_type": "code",
   "execution_count": 23,
   "metadata": {},
   "outputs": [
    {
     "name": "stderr",
     "output_type": "stream",
     "text": [
      "/tmp/ipykernel_366/2430154656.py:3: UserWarning: pandas only supports SQLAlchemy connectable (engine/connection) or database string URI or sqlite3 DBAPI2 connection. Other DBAPI2 objects are not tested. Please consider using SQLAlchemy.\n",
      "  next_3_Customers= psql.read_sql(\"SELECT * FROM customer OFFSET 3 FETCH FIRST 2 ROWS ONLY\", con)\n"
     ]
    },
    {
     "data": {
      "text/html": [
       "<div>\n",
       "<style scoped>\n",
       "    .dataframe tbody tr th:only-of-type {\n",
       "        vertical-align: middle;\n",
       "    }\n",
       "\n",
       "    .dataframe tbody tr th {\n",
       "        vertical-align: top;\n",
       "    }\n",
       "\n",
       "    .dataframe thead th {\n",
       "        text-align: right;\n",
       "    }\n",
       "</style>\n",
       "<table border=\"1\" class=\"dataframe\">\n",
       "  <thead>\n",
       "    <tr style=\"text-align: right;\">\n",
       "      <th></th>\n",
       "      <th>id</th>\n",
       "      <th>name</th>\n",
       "      <th>country</th>\n",
       "      <th>email</th>\n",
       "    </tr>\n",
       "  </thead>\n",
       "  <tbody>\n",
       "    <tr>\n",
       "      <th>0</th>\n",
       "      <td>4</td>\n",
       "      <td>Jean Lime</td>\n",
       "      <td>Canda</td>\n",
       "      <td>jeanlime@gmail.com</td>\n",
       "    </tr>\n",
       "    <tr>\n",
       "      <th>1</th>\n",
       "      <td>5</td>\n",
       "      <td>Hassan Eldeeb</td>\n",
       "      <td>Egypt</td>\n",
       "      <td>None</td>\n",
       "    </tr>\n",
       "  </tbody>\n",
       "</table>\n",
       "</div>"
      ],
      "text/plain": [
       "   id           name country               email\n",
       "0   4      Jean Lime   Canda  jeanlime@gmail.com\n",
       "1   5  Hassan Eldeeb   Egypt                None"
      ]
     },
     "metadata": {},
     "output_type": "display_data"
    }
   ],
   "source": [
    "#OR you can do the same using the following Query\n",
    "# Don't RUN before you put your SQL Query\n",
    "next_3_Customers= psql.read_sql(\"SELECT * FROM customer OFFSET 3 FETCH FIRST 2 ROWS ONLY\", con)\n",
    "display(next_3_Customers)"
   ]
  },
  {
   "cell_type": "markdown",
   "metadata": {},
   "source": [
    "## Let's have some statiscs and aggregations (SQL GROUP BY & aggregation functions)\n",
    "\n",
    "- The GROUP BY statement groups rows that have the same values into summary rows.\n",
    "- The GROUP BY statement is often used with aggregate functions (COUNT, MAX, MIN, SUM, AVG) to group the result-set by one or more columns.\n"
   ]
  },
  {
   "cell_type": "markdown",
   "metadata": {},
   "source": [
    "#### Get the count of  customers in your DB"
   ]
  },
  {
   "cell_type": "code",
   "execution_count": 24,
   "metadata": {},
   "outputs": [
    {
     "name": "stderr",
     "output_type": "stream",
     "text": [
      "/tmp/ipykernel_366/2015594766.py:2: UserWarning: pandas only supports SQLAlchemy connectable (engine/connection) or database string URI or sqlite3 DBAPI2 connection. Other DBAPI2 objects are not tested. Please consider using SQLAlchemy.\n",
      "  Customers_Cnt= psql.read_sql(\"SELECT DISTINCT COUNT(*) FROM customer\", con)\n"
     ]
    },
    {
     "data": {
      "text/html": [
       "<div>\n",
       "<style scoped>\n",
       "    .dataframe tbody tr th:only-of-type {\n",
       "        vertical-align: middle;\n",
       "    }\n",
       "\n",
       "    .dataframe tbody tr th {\n",
       "        vertical-align: top;\n",
       "    }\n",
       "\n",
       "    .dataframe thead th {\n",
       "        text-align: right;\n",
       "    }\n",
       "</style>\n",
       "<table border=\"1\" class=\"dataframe\">\n",
       "  <thead>\n",
       "    <tr style=\"text-align: right;\">\n",
       "      <th></th>\n",
       "      <th>count</th>\n",
       "    </tr>\n",
       "  </thead>\n",
       "  <tbody>\n",
       "    <tr>\n",
       "      <th>0</th>\n",
       "      <td>5</td>\n",
       "    </tr>\n",
       "  </tbody>\n",
       "</table>\n",
       "</div>"
      ],
      "text/plain": [
       "   count\n",
       "0      5"
      ]
     },
     "metadata": {},
     "output_type": "display_data"
    }
   ],
   "source": [
    "# Don't RUN before you put your SQL Query\n",
    "Customers_Cnt= psql.read_sql(\"SELECT DISTINCT COUNT(*) FROM customer\", con)\n",
    "display(Customers_Cnt)"
   ]
  },
  {
   "cell_type": "markdown",
   "metadata": {},
   "source": [
    "#### Get the Distinct Countries and how many customers are in each country"
   ]
  },
  {
   "cell_type": "code",
   "execution_count": 25,
   "metadata": {},
   "outputs": [
    {
     "name": "stderr",
     "output_type": "stream",
     "text": [
      "/tmp/ipykernel_366/545595632.py:1: UserWarning: pandas only supports SQLAlchemy connectable (engine/connection) or database string URI or sqlite3 DBAPI2 connection. Other DBAPI2 objects are not tested. Please consider using SQLAlchemy.\n",
      "  Countries_Customers_Cnt= psql.read_sql(\"SELECT DISTINCT country , COUNT (*) FROM customer GROUP BY country\", con)\n"
     ]
    },
    {
     "data": {
      "text/html": [
       "<div>\n",
       "<style scoped>\n",
       "    .dataframe tbody tr th:only-of-type {\n",
       "        vertical-align: middle;\n",
       "    }\n",
       "\n",
       "    .dataframe tbody tr th {\n",
       "        vertical-align: top;\n",
       "    }\n",
       "\n",
       "    .dataframe thead th {\n",
       "        text-align: right;\n",
       "    }\n",
       "</style>\n",
       "<table border=\"1\" class=\"dataframe\">\n",
       "  <thead>\n",
       "    <tr style=\"text-align: right;\">\n",
       "      <th></th>\n",
       "      <th>country</th>\n",
       "      <th>count</th>\n",
       "    </tr>\n",
       "  </thead>\n",
       "  <tbody>\n",
       "    <tr>\n",
       "      <th>0</th>\n",
       "      <td>India</td>\n",
       "      <td>1</td>\n",
       "    </tr>\n",
       "    <tr>\n",
       "      <th>1</th>\n",
       "      <td>Canda</td>\n",
       "      <td>1</td>\n",
       "    </tr>\n",
       "    <tr>\n",
       "      <th>2</th>\n",
       "      <td>Finland</td>\n",
       "      <td>1</td>\n",
       "    </tr>\n",
       "    <tr>\n",
       "      <th>3</th>\n",
       "      <td>Egypt</td>\n",
       "      <td>2</td>\n",
       "    </tr>\n",
       "  </tbody>\n",
       "</table>\n",
       "</div>"
      ],
      "text/plain": [
       "   country  count\n",
       "0    India      1\n",
       "1    Canda      1\n",
       "2  Finland      1\n",
       "3    Egypt      2"
      ]
     },
     "metadata": {},
     "output_type": "display_data"
    }
   ],
   "source": [
    "Countries_Customers_Cnt= psql.read_sql(\"SELECT DISTINCT country , COUNT (*) FROM customer GROUP BY country\", con)\n",
    "display(Countries_Customers_Cnt)"
   ]
  },
  {
   "cell_type": "markdown",
   "metadata": {},
   "source": [
    "#### Get the Distinct Countries and how many people are in each country, and filter the count to be greater than 1"
   ]
  },
  {
   "cell_type": "code",
   "execution_count": 26,
   "metadata": {},
   "outputs": [
    {
     "name": "stderr",
     "output_type": "stream",
     "text": [
      "/tmp/ipykernel_366/1754205239.py:2: UserWarning: pandas only supports SQLAlchemy connectable (engine/connection) or database string URI or sqlite3 DBAPI2 connection. Other DBAPI2 objects are not tested. Please consider using SQLAlchemy.\n",
      "  Countries_Customers_Cnt_gt1= psql.read_sql(\"\"\"SELECT DISTINCT country , COUNT (*)\n"
     ]
    },
    {
     "data": {
      "text/html": [
       "<div>\n",
       "<style scoped>\n",
       "    .dataframe tbody tr th:only-of-type {\n",
       "        vertical-align: middle;\n",
       "    }\n",
       "\n",
       "    .dataframe tbody tr th {\n",
       "        vertical-align: top;\n",
       "    }\n",
       "\n",
       "    .dataframe thead th {\n",
       "        text-align: right;\n",
       "    }\n",
       "</style>\n",
       "<table border=\"1\" class=\"dataframe\">\n",
       "  <thead>\n",
       "    <tr style=\"text-align: right;\">\n",
       "      <th></th>\n",
       "      <th>country</th>\n",
       "      <th>count</th>\n",
       "    </tr>\n",
       "  </thead>\n",
       "  <tbody>\n",
       "    <tr>\n",
       "      <th>0</th>\n",
       "      <td>Egypt</td>\n",
       "      <td>2</td>\n",
       "    </tr>\n",
       "  </tbody>\n",
       "</table>\n",
       "</div>"
      ],
      "text/plain": [
       "  country  count\n",
       "0   Egypt      2"
      ]
     },
     "metadata": {},
     "output_type": "display_data"
    }
   ],
   "source": [
    "### USE of HAVING with GROUP BY and Aggregation Functions\n",
    "Countries_Customers_Cnt_gt1= psql.read_sql(\"\"\"SELECT DISTINCT country , COUNT (*) \n",
    "                                          FROM customer \n",
    "                                          GROUP BY country \n",
    "                                          HAVING count(*)>1\n",
    "                                          \"\"\", con)\n",
    "display(Countries_Customers_Cnt_gt1)"
   ]
  },
  {
   "cell_type": "markdown",
   "metadata": {},
   "source": [
    "##### Give an Alias for the count (change it to be Customers_number)"
   ]
  },
  {
   "cell_type": "code",
   "execution_count": 27,
   "metadata": {},
   "outputs": [
    {
     "name": "stderr",
     "output_type": "stream",
     "text": [
      "/tmp/ipykernel_366/4230958945.py:2: UserWarning: pandas only supports SQLAlchemy connectable (engine/connection) or database string URI or sqlite3 DBAPI2 connection. Other DBAPI2 objects are not tested. Please consider using SQLAlchemy.\n",
      "  Countries_Customers_Cnt_gt1= psql.read_sql(\"\"\"SELECT DISTINCT country , COUNT (*) AS Customers_number\n"
     ]
    },
    {
     "data": {
      "text/html": [
       "<div>\n",
       "<style scoped>\n",
       "    .dataframe tbody tr th:only-of-type {\n",
       "        vertical-align: middle;\n",
       "    }\n",
       "\n",
       "    .dataframe tbody tr th {\n",
       "        vertical-align: top;\n",
       "    }\n",
       "\n",
       "    .dataframe thead th {\n",
       "        text-align: right;\n",
       "    }\n",
       "</style>\n",
       "<table border=\"1\" class=\"dataframe\">\n",
       "  <thead>\n",
       "    <tr style=\"text-align: right;\">\n",
       "      <th></th>\n",
       "      <th>country</th>\n",
       "      <th>customers_number</th>\n",
       "    </tr>\n",
       "  </thead>\n",
       "  <tbody>\n",
       "    <tr>\n",
       "      <th>0</th>\n",
       "      <td>Egypt</td>\n",
       "      <td>2</td>\n",
       "    </tr>\n",
       "  </tbody>\n",
       "</table>\n",
       "</div>"
      ],
      "text/plain": [
       "  country  customers_number\n",
       "0   Egypt                 2"
      ]
     },
     "metadata": {},
     "output_type": "display_data"
    }
   ],
   "source": [
    "# Don't RUN before you put your SQL Query\n",
    "Countries_Customers_Cnt_gt1= psql.read_sql(\"\"\"SELECT DISTINCT country , COUNT (*) AS Customers_number\n",
    "                                          FROM customer \n",
    "                                          GROUP BY country \n",
    "                                          HAVING count(*)>1\n",
    "                                          \"\"\", con)\n",
    "display(Countries_Customers_Cnt_gt1)"
   ]
  },
  {
   "cell_type": "markdown",
   "metadata": {},
   "source": [
    "##### We're going to leave link here for more details about the other aggregate functions such as (MIN, MAX, SUM,...)\n",
    "PostgreSQL Aggregates: https://www.postgresql.org/docs/9.5/functions-aggregate.html"
   ]
  },
  {
   "cell_type": "markdown",
   "metadata": {},
   "source": [
    "### Let's Create the Second Table (Order)\n",
    "- ***Reminder: One-to-many*** relationship is handled as follows : Use a foreign key on the many side of the relationship linking back to the \"one\" side.\n",
    "- ***Note:*** Order is a reserved keyword in SQL, It's not recommended to use such keywords, but if you want to do so, we can use double quoutes \"\" arrount those keywords."
   ]
  },
  {
   "cell_type": "code",
   "execution_count": 28,
   "metadata": {},
   "outputs": [
    {
     "name": "stdout",
     "output_type": "stream",
     "text": [
      "Table (order) created successfully in PostgreSQL \n"
     ]
    }
   ],
   "source": [
    "#Create Order Table\n",
    "\n",
    "try:\n",
    "    ordersTable=\"order\"\n",
    "    create_ordersTable_query = '''CREATE TABLE \"'''+ ordersTable+'''\" \n",
    "              (id INT  PRIMARY KEY,\n",
    "               customer_id  INT  REFERENCES customer(id),\n",
    "               product      TEXT    NOT NULL\n",
    "               ); '''\n",
    "\n",
    "    \n",
    "    #Execute this command (SQL Query)\n",
    "    cursor.execute(create_ordersTable_query)\n",
    "    con.commit()\n",
    "    print(\"Table (\"+ ordersTable +\") created successfully in PostgreSQL \")\n",
    "except:\n",
    "    con.rollback()\n",
    "    print(\"Table (\"+ ordersTable +\") already Existed! \")"
   ]
  },
  {
   "cell_type": "markdown",
   "metadata": {},
   "source": [
    "#### Can we create this table (Order) before the (customer) table? (YES/NO, and Why)?!"
   ]
  },
  {
   "cell_type": "markdown",
   "metadata": {},
   "source": [
    "<font color='red'>***Answer:No we can't because it has a foreign key that relates to the customer table***</font>"
   ]
  },
  {
   "cell_type": "markdown",
   "metadata": {},
   "source": [
    "#### Insert Some Data into the (Order) Table"
   ]
  },
  {
   "cell_type": "code",
   "execution_count": 29,
   "metadata": {},
   "outputs": [
    {
     "name": "stdout",
     "output_type": "stream",
     "text": [
      "6 Record inserted successfully into customers table\n"
     ]
    }
   ],
   "source": [
    "sql_insert_orders = '''INSERT INTO \"order\" (id,customer_id,product) VALUES(%s,%s,%s)'''\n",
    "\n",
    "#list of customers\n",
    "orders_List=[\n",
    "        (1,1, \"Coffee - Irish Cream\"),\n",
    "        (2,1, \"Sauce - Demi Glace\"),\n",
    "        (3,2,\"Corn Meal\"),\n",
    "        (4,1,\"Cumin - Whole\"),\n",
    "        (5,3,\"Chocolate - Sugar Free Semi Choc\"),\n",
    "        (6,4,\"Rolled Oats\")]\n",
    "try:\n",
    "    # execute the INSERT statement\n",
    "    cursor.executemany(sql_insert_orders,orders_List)\n",
    "    # commit the changes to the database\n",
    "    con.commit()\n",
    "\n",
    "except (Exception, psycopg2.Error) as error :\n",
    "    con.rollback()\n",
    "    print (\"Error while exccuting the query at PostgreSQL\",error)\n",
    "    \n",
    "finally:\n",
    "    \n",
    "    count = cursor.rowcount\n",
    "    print (count, \"Record inserted successfully into customers table\")"
   ]
  },
  {
   "cell_type": "markdown",
   "metadata": {},
   "source": [
    "## Bring Data from multiple Tables (SQL JOINS)"
   ]
  },
  {
   "cell_type": "markdown",
   "metadata": {},
   "source": [
    "#### What are SQL Joins?\n",
    "\n",
    "An SQL JOIN clause combines rows from two or more tables. It creates a set of rows in a temporary table. "
   ]
  },
  {
   "cell_type": "markdown",
   "metadata": {},
   "source": [
    "#### How to Join two tables in SQL?\n",
    "- A JOIN works on two or more tables if they have at least one common field and have a relationship between them.\n",
    "\n",
    "- JOIN keeps the base tables (structure and data) unchanged."
   ]
  },
  {
   "cell_type": "markdown",
   "metadata": {},
   "source": [
    "#### Looking only at \"order\" Table, we don't know names (or any further details of the csuomers)\n",
    "- Here'is the role of JOINS Comes to the Scene :) "
   ]
  },
  {
   "cell_type": "code",
   "execution_count": 30,
   "metadata": {},
   "outputs": [
    {
     "name": "stderr",
     "output_type": "stream",
     "text": [
      "/tmp/ipykernel_366/505448442.py:1: UserWarning: pandas only supports SQLAlchemy connectable (engine/connection) or database string URI or sqlite3 DBAPI2 connection. Other DBAPI2 objects are not tested. Please consider using SQLAlchemy.\n",
      "  orders= psql.read_sql('''SELECT * FROM \"order\" ''', con)\n"
     ]
    },
    {
     "data": {
      "text/html": [
       "<div>\n",
       "<style scoped>\n",
       "    .dataframe tbody tr th:only-of-type {\n",
       "        vertical-align: middle;\n",
       "    }\n",
       "\n",
       "    .dataframe tbody tr th {\n",
       "        vertical-align: top;\n",
       "    }\n",
       "\n",
       "    .dataframe thead th {\n",
       "        text-align: right;\n",
       "    }\n",
       "</style>\n",
       "<table border=\"1\" class=\"dataframe\">\n",
       "  <thead>\n",
       "    <tr style=\"text-align: right;\">\n",
       "      <th></th>\n",
       "      <th>id</th>\n",
       "      <th>customer_id</th>\n",
       "      <th>product</th>\n",
       "    </tr>\n",
       "  </thead>\n",
       "  <tbody>\n",
       "    <tr>\n",
       "      <th>0</th>\n",
       "      <td>1</td>\n",
       "      <td>1</td>\n",
       "      <td>Coffee - Irish Cream</td>\n",
       "    </tr>\n",
       "    <tr>\n",
       "      <th>1</th>\n",
       "      <td>2</td>\n",
       "      <td>1</td>\n",
       "      <td>Sauce - Demi Glace</td>\n",
       "    </tr>\n",
       "    <tr>\n",
       "      <th>2</th>\n",
       "      <td>3</td>\n",
       "      <td>2</td>\n",
       "      <td>Corn Meal</td>\n",
       "    </tr>\n",
       "    <tr>\n",
       "      <th>3</th>\n",
       "      <td>4</td>\n",
       "      <td>1</td>\n",
       "      <td>Cumin - Whole</td>\n",
       "    </tr>\n",
       "    <tr>\n",
       "      <th>4</th>\n",
       "      <td>5</td>\n",
       "      <td>3</td>\n",
       "      <td>Chocolate - Sugar Free Semi Choc</td>\n",
       "    </tr>\n",
       "    <tr>\n",
       "      <th>5</th>\n",
       "      <td>6</td>\n",
       "      <td>4</td>\n",
       "      <td>Rolled Oats</td>\n",
       "    </tr>\n",
       "  </tbody>\n",
       "</table>\n",
       "</div>"
      ],
      "text/plain": [
       "   id  customer_id                           product\n",
       "0   1            1              Coffee - Irish Cream\n",
       "1   2            1                Sauce - Demi Glace\n",
       "2   3            2                         Corn Meal\n",
       "3   4            1                     Cumin - Whole\n",
       "4   5            3  Chocolate - Sugar Free Semi Choc\n",
       "5   6            4                       Rolled Oats"
      ]
     },
     "metadata": {},
     "output_type": "display_data"
    }
   ],
   "source": [
    "orders= psql.read_sql('''SELECT * FROM \"order\" ''', con)\n",
    "display(orders)"
   ]
  },
  {
   "cell_type": "markdown",
   "metadata": {},
   "source": [
    "#### INNER JOIN\n",
    "\n",
    "- The SQL INNER JOIN is similar to the Set intersection.\n",
    "- INNER JOIN selects rows from table1 and table2 where they match the selecting column.\n"
   ]
  },
  {
   "cell_type": "code",
   "execution_count": 31,
   "metadata": {},
   "outputs": [
    {
     "name": "stderr",
     "output_type": "stream",
     "text": [
      "/tmp/ipykernel_366/3532695662.py:1: UserWarning: pandas only supports SQLAlchemy connectable (engine/connection) or database string URI or sqlite3 DBAPI2 connection. Other DBAPI2 objects are not tested. Please consider using SQLAlchemy.\n",
      "  innerJoined= psql.read_sql(\"\"\"SELECT * FROM customer\n"
     ]
    },
    {
     "data": {
      "text/html": [
       "<div>\n",
       "<style scoped>\n",
       "    .dataframe tbody tr th:only-of-type {\n",
       "        vertical-align: middle;\n",
       "    }\n",
       "\n",
       "    .dataframe tbody tr th {\n",
       "        vertical-align: top;\n",
       "    }\n",
       "\n",
       "    .dataframe thead th {\n",
       "        text-align: right;\n",
       "    }\n",
       "</style>\n",
       "<table border=\"1\" class=\"dataframe\">\n",
       "  <thead>\n",
       "    <tr style=\"text-align: right;\">\n",
       "      <th></th>\n",
       "      <th>id</th>\n",
       "      <th>name</th>\n",
       "      <th>country</th>\n",
       "      <th>email</th>\n",
       "      <th>id</th>\n",
       "      <th>customer_id</th>\n",
       "      <th>product</th>\n",
       "    </tr>\n",
       "  </thead>\n",
       "  <tbody>\n",
       "    <tr>\n",
       "      <th>0</th>\n",
       "      <td>1</td>\n",
       "      <td>Mohamed Ragab</td>\n",
       "      <td>Egypt</td>\n",
       "      <td>mohamed.ragb@ut.ee</td>\n",
       "      <td>1</td>\n",
       "      <td>1</td>\n",
       "      <td>Coffee - Irish Cream</td>\n",
       "    </tr>\n",
       "    <tr>\n",
       "      <th>1</th>\n",
       "      <td>1</td>\n",
       "      <td>Mohamed Ragab</td>\n",
       "      <td>Egypt</td>\n",
       "      <td>mohamed.ragb@ut.ee</td>\n",
       "      <td>2</td>\n",
       "      <td>1</td>\n",
       "      <td>Sauce - Demi Glace</td>\n",
       "    </tr>\n",
       "    <tr>\n",
       "      <th>2</th>\n",
       "      <td>1</td>\n",
       "      <td>Mohamed Ragab</td>\n",
       "      <td>Egypt</td>\n",
       "      <td>mohamed.ragb@ut.ee</td>\n",
       "      <td>4</td>\n",
       "      <td>1</td>\n",
       "      <td>Cumin - Whole</td>\n",
       "    </tr>\n",
       "    <tr>\n",
       "      <th>3</th>\n",
       "      <td>2</td>\n",
       "      <td>John Smith</td>\n",
       "      <td>Finland</td>\n",
       "      <td>j.smith@hotmail.com</td>\n",
       "      <td>3</td>\n",
       "      <td>2</td>\n",
       "      <td>Corn Meal</td>\n",
       "    </tr>\n",
       "    <tr>\n",
       "      <th>4</th>\n",
       "      <td>4</td>\n",
       "      <td>Jean Lime</td>\n",
       "      <td>Canda</td>\n",
       "      <td>jeanlime@gmail.com</td>\n",
       "      <td>6</td>\n",
       "      <td>4</td>\n",
       "      <td>Rolled Oats</td>\n",
       "    </tr>\n",
       "    <tr>\n",
       "      <th>5</th>\n",
       "      <td>3</td>\n",
       "      <td>Aisha Kareem</td>\n",
       "      <td>India</td>\n",
       "      <td>None</td>\n",
       "      <td>5</td>\n",
       "      <td>3</td>\n",
       "      <td>Chocolate - Sugar Free Semi Choc</td>\n",
       "    </tr>\n",
       "  </tbody>\n",
       "</table>\n",
       "</div>"
      ],
      "text/plain": [
       "   id           name  country                email  id  customer_id  \\\n",
       "0   1  Mohamed Ragab    Egypt   mohamed.ragb@ut.ee   1            1   \n",
       "1   1  Mohamed Ragab    Egypt   mohamed.ragb@ut.ee   2            1   \n",
       "2   1  Mohamed Ragab    Egypt   mohamed.ragb@ut.ee   4            1   \n",
       "3   2     John Smith  Finland  j.smith@hotmail.com   3            2   \n",
       "4   4      Jean Lime    Canda   jeanlime@gmail.com   6            4   \n",
       "5   3   Aisha Kareem    India                 None   5            3   \n",
       "\n",
       "                            product  \n",
       "0              Coffee - Irish Cream  \n",
       "1                Sauce - Demi Glace  \n",
       "2                     Cumin - Whole  \n",
       "3                         Corn Meal  \n",
       "4                       Rolled Oats  \n",
       "5  Chocolate - Sugar Free Semi Choc  "
      ]
     },
     "metadata": {},
     "output_type": "display_data"
    }
   ],
   "source": [
    "innerJoined= psql.read_sql(\"\"\"SELECT * FROM customer \n",
    "                              INNER JOIN  \"order\" \n",
    "                              ON customer.id = \"order\".customer_id\n",
    "                              ORDER BY name DESC\n",
    "                      \"\"\", con)\n",
    "display(innerJoined)"
   ]
  },
  {
   "cell_type": "markdown",
   "metadata": {},
   "source": [
    "#### If it's Confusing Just show the name and the product"
   ]
  },
  {
   "cell_type": "code",
   "execution_count": 32,
   "metadata": {},
   "outputs": [
    {
     "name": "stderr",
     "output_type": "stream",
     "text": [
      "/tmp/ipykernel_366/1955855047.py:1: UserWarning: pandas only supports SQLAlchemy connectable (engine/connection) or database string URI or sqlite3 DBAPI2 connection. Other DBAPI2 objects are not tested. Please consider using SQLAlchemy.\n",
      "  innerJoined= psql.read_sql(\"\"\"    SELECT name, product FROM customer\n"
     ]
    },
    {
     "data": {
      "text/html": [
       "<div>\n",
       "<style scoped>\n",
       "    .dataframe tbody tr th:only-of-type {\n",
       "        vertical-align: middle;\n",
       "    }\n",
       "\n",
       "    .dataframe tbody tr th {\n",
       "        vertical-align: top;\n",
       "    }\n",
       "\n",
       "    .dataframe thead th {\n",
       "        text-align: right;\n",
       "    }\n",
       "</style>\n",
       "<table border=\"1\" class=\"dataframe\">\n",
       "  <thead>\n",
       "    <tr style=\"text-align: right;\">\n",
       "      <th></th>\n",
       "      <th>name</th>\n",
       "      <th>product</th>\n",
       "    </tr>\n",
       "  </thead>\n",
       "  <tbody>\n",
       "    <tr>\n",
       "      <th>0</th>\n",
       "      <td>Mohamed Ragab</td>\n",
       "      <td>Coffee - Irish Cream</td>\n",
       "    </tr>\n",
       "    <tr>\n",
       "      <th>1</th>\n",
       "      <td>Mohamed Ragab</td>\n",
       "      <td>Sauce - Demi Glace</td>\n",
       "    </tr>\n",
       "    <tr>\n",
       "      <th>2</th>\n",
       "      <td>Mohamed Ragab</td>\n",
       "      <td>Cumin - Whole</td>\n",
       "    </tr>\n",
       "    <tr>\n",
       "      <th>3</th>\n",
       "      <td>John Smith</td>\n",
       "      <td>Corn Meal</td>\n",
       "    </tr>\n",
       "    <tr>\n",
       "      <th>4</th>\n",
       "      <td>Jean Lime</td>\n",
       "      <td>Rolled Oats</td>\n",
       "    </tr>\n",
       "    <tr>\n",
       "      <th>5</th>\n",
       "      <td>Aisha Kareem</td>\n",
       "      <td>Chocolate - Sugar Free Semi Choc</td>\n",
       "    </tr>\n",
       "  </tbody>\n",
       "</table>\n",
       "</div>"
      ],
      "text/plain": [
       "            name                           product\n",
       "0  Mohamed Ragab              Coffee - Irish Cream\n",
       "1  Mohamed Ragab                Sauce - Demi Glace\n",
       "2  Mohamed Ragab                     Cumin - Whole\n",
       "3     John Smith                         Corn Meal\n",
       "4      Jean Lime                       Rolled Oats\n",
       "5   Aisha Kareem  Chocolate - Sugar Free Semi Choc"
      ]
     },
     "metadata": {},
     "output_type": "display_data"
    }
   ],
   "source": [
    "innerJoined= psql.read_sql(\"\"\"    SELECT name, product FROM customer \n",
    "                              INNER JOIN  \"order\" \n",
    "                              ON customer.id = \"order\".customer_id\n",
    "                              ORDER BY name DESC          \"\"\", con)\n",
    "display(innerJoined)"
   ]
  },
  {
   "cell_type": "markdown",
   "metadata": {},
   "source": [
    "###  LEFT JOIN\n",
    "\n",
    "- This selects all rows from the table1 ( on the left), the rows from the  table2 (on the right) if they match.\n",
    "- If they don’t match, the data for the right table is blank (NULLS)."
   ]
  },
  {
   "cell_type": "markdown",
   "metadata": {},
   "source": [
    "#### Get all the customers with Orders details, even get customers who don't made orderes \n",
    "- Other way to say! Get all the customers, and Products , and if the customer didn't order product the product will be blank"
   ]
  },
  {
   "cell_type": "code",
   "execution_count": 33,
   "metadata": {},
   "outputs": [
    {
     "name": "stderr",
     "output_type": "stream",
     "text": [
      "/tmp/ipykernel_366/3911676406.py:1: UserWarning: pandas only supports SQLAlchemy connectable (engine/connection) or database string URI or sqlite3 DBAPI2 connection. Other DBAPI2 objects are not tested. Please consider using SQLAlchemy.\n",
      "  leftJoined= psql.read_sql(\"\"\"SELECT *  FROM customer\n"
     ]
    },
    {
     "data": {
      "text/html": [
       "<div>\n",
       "<style scoped>\n",
       "    .dataframe tbody tr th:only-of-type {\n",
       "        vertical-align: middle;\n",
       "    }\n",
       "\n",
       "    .dataframe tbody tr th {\n",
       "        vertical-align: top;\n",
       "    }\n",
       "\n",
       "    .dataframe thead th {\n",
       "        text-align: right;\n",
       "    }\n",
       "</style>\n",
       "<table border=\"1\" class=\"dataframe\">\n",
       "  <thead>\n",
       "    <tr style=\"text-align: right;\">\n",
       "      <th></th>\n",
       "      <th>id</th>\n",
       "      <th>name</th>\n",
       "      <th>country</th>\n",
       "      <th>email</th>\n",
       "      <th>id</th>\n",
       "      <th>customer_id</th>\n",
       "      <th>product</th>\n",
       "    </tr>\n",
       "  </thead>\n",
       "  <tbody>\n",
       "    <tr>\n",
       "      <th>0</th>\n",
       "      <td>1</td>\n",
       "      <td>Mohamed Ragab</td>\n",
       "      <td>Egypt</td>\n",
       "      <td>mohamed.ragb@ut.ee</td>\n",
       "      <td>4.0</td>\n",
       "      <td>1.0</td>\n",
       "      <td>Cumin - Whole</td>\n",
       "    </tr>\n",
       "    <tr>\n",
       "      <th>1</th>\n",
       "      <td>1</td>\n",
       "      <td>Mohamed Ragab</td>\n",
       "      <td>Egypt</td>\n",
       "      <td>mohamed.ragb@ut.ee</td>\n",
       "      <td>2.0</td>\n",
       "      <td>1.0</td>\n",
       "      <td>Sauce - Demi Glace</td>\n",
       "    </tr>\n",
       "    <tr>\n",
       "      <th>2</th>\n",
       "      <td>1</td>\n",
       "      <td>Mohamed Ragab</td>\n",
       "      <td>Egypt</td>\n",
       "      <td>mohamed.ragb@ut.ee</td>\n",
       "      <td>1.0</td>\n",
       "      <td>1.0</td>\n",
       "      <td>Coffee - Irish Cream</td>\n",
       "    </tr>\n",
       "    <tr>\n",
       "      <th>3</th>\n",
       "      <td>2</td>\n",
       "      <td>John Smith</td>\n",
       "      <td>Finland</td>\n",
       "      <td>j.smith@hotmail.com</td>\n",
       "      <td>3.0</td>\n",
       "      <td>2.0</td>\n",
       "      <td>Corn Meal</td>\n",
       "    </tr>\n",
       "    <tr>\n",
       "      <th>4</th>\n",
       "      <td>4</td>\n",
       "      <td>Jean Lime</td>\n",
       "      <td>Canda</td>\n",
       "      <td>jeanlime@gmail.com</td>\n",
       "      <td>6.0</td>\n",
       "      <td>4.0</td>\n",
       "      <td>Rolled Oats</td>\n",
       "    </tr>\n",
       "    <tr>\n",
       "      <th>5</th>\n",
       "      <td>5</td>\n",
       "      <td>Hassan Eldeeb</td>\n",
       "      <td>Egypt</td>\n",
       "      <td>None</td>\n",
       "      <td>NaN</td>\n",
       "      <td>NaN</td>\n",
       "      <td>None</td>\n",
       "    </tr>\n",
       "    <tr>\n",
       "      <th>6</th>\n",
       "      <td>3</td>\n",
       "      <td>Aisha Kareem</td>\n",
       "      <td>India</td>\n",
       "      <td>None</td>\n",
       "      <td>5.0</td>\n",
       "      <td>3.0</td>\n",
       "      <td>Chocolate - Sugar Free Semi Choc</td>\n",
       "    </tr>\n",
       "  </tbody>\n",
       "</table>\n",
       "</div>"
      ],
      "text/plain": [
       "   id           name  country                email   id  customer_id  \\\n",
       "0   1  Mohamed Ragab    Egypt   mohamed.ragb@ut.ee  4.0          1.0   \n",
       "1   1  Mohamed Ragab    Egypt   mohamed.ragb@ut.ee  2.0          1.0   \n",
       "2   1  Mohamed Ragab    Egypt   mohamed.ragb@ut.ee  1.0          1.0   \n",
       "3   2     John Smith  Finland  j.smith@hotmail.com  3.0          2.0   \n",
       "4   4      Jean Lime    Canda   jeanlime@gmail.com  6.0          4.0   \n",
       "5   5  Hassan Eldeeb    Egypt                 None  NaN          NaN   \n",
       "6   3   Aisha Kareem    India                 None  5.0          3.0   \n",
       "\n",
       "                            product  \n",
       "0                     Cumin - Whole  \n",
       "1                Sauce - Demi Glace  \n",
       "2              Coffee - Irish Cream  \n",
       "3                         Corn Meal  \n",
       "4                       Rolled Oats  \n",
       "5                              None  \n",
       "6  Chocolate - Sugar Free Semi Choc  "
      ]
     },
     "metadata": {},
     "output_type": "display_data"
    }
   ],
   "source": [
    "leftJoined= psql.read_sql(\"\"\"SELECT *  FROM customer \n",
    "                        LEFT JOIN  \"order\" \n",
    "                        ON customer.id = \"order\".customer_id\n",
    "                        ORDER BY name DESC\n",
    "                      \"\"\", con)\n",
    "display(leftJoined)"
   ]
  },
  {
   "cell_type": "markdown",
   "metadata": {},
   "source": [
    "#### perform the same query but projecting on customer_name and the products "
   ]
  },
  {
   "cell_type": "code",
   "execution_count": 34,
   "metadata": {},
   "outputs": [
    {
     "name": "stderr",
     "output_type": "stream",
     "text": [
      "/tmp/ipykernel_366/3216013988.py:2: UserWarning: pandas only supports SQLAlchemy connectable (engine/connection) or database string URI or sqlite3 DBAPI2 connection. Other DBAPI2 objects are not tested. Please consider using SQLAlchemy.\n",
      "  leftJoined= psql.read_sql(\"\"\"SELECT name, product FROM customer\n"
     ]
    },
    {
     "data": {
      "text/html": [
       "<div>\n",
       "<style scoped>\n",
       "    .dataframe tbody tr th:only-of-type {\n",
       "        vertical-align: middle;\n",
       "    }\n",
       "\n",
       "    .dataframe tbody tr th {\n",
       "        vertical-align: top;\n",
       "    }\n",
       "\n",
       "    .dataframe thead th {\n",
       "        text-align: right;\n",
       "    }\n",
       "</style>\n",
       "<table border=\"1\" class=\"dataframe\">\n",
       "  <thead>\n",
       "    <tr style=\"text-align: right;\">\n",
       "      <th></th>\n",
       "      <th>name</th>\n",
       "      <th>product</th>\n",
       "    </tr>\n",
       "  </thead>\n",
       "  <tbody>\n",
       "    <tr>\n",
       "      <th>0</th>\n",
       "      <td>Mohamed Ragab</td>\n",
       "      <td>Cumin - Whole</td>\n",
       "    </tr>\n",
       "    <tr>\n",
       "      <th>1</th>\n",
       "      <td>Mohamed Ragab</td>\n",
       "      <td>Sauce - Demi Glace</td>\n",
       "    </tr>\n",
       "    <tr>\n",
       "      <th>2</th>\n",
       "      <td>Mohamed Ragab</td>\n",
       "      <td>Coffee - Irish Cream</td>\n",
       "    </tr>\n",
       "    <tr>\n",
       "      <th>3</th>\n",
       "      <td>John Smith</td>\n",
       "      <td>Corn Meal</td>\n",
       "    </tr>\n",
       "    <tr>\n",
       "      <th>4</th>\n",
       "      <td>Jean Lime</td>\n",
       "      <td>Rolled Oats</td>\n",
       "    </tr>\n",
       "    <tr>\n",
       "      <th>5</th>\n",
       "      <td>Hassan Eldeeb</td>\n",
       "      <td>None</td>\n",
       "    </tr>\n",
       "    <tr>\n",
       "      <th>6</th>\n",
       "      <td>Aisha Kareem</td>\n",
       "      <td>Chocolate - Sugar Free Semi Choc</td>\n",
       "    </tr>\n",
       "  </tbody>\n",
       "</table>\n",
       "</div>"
      ],
      "text/plain": [
       "            name                           product\n",
       "0  Mohamed Ragab                     Cumin - Whole\n",
       "1  Mohamed Ragab                Sauce - Demi Glace\n",
       "2  Mohamed Ragab              Coffee - Irish Cream\n",
       "3     John Smith                         Corn Meal\n",
       "4      Jean Lime                       Rolled Oats\n",
       "5  Hassan Eldeeb                              None\n",
       "6   Aisha Kareem  Chocolate - Sugar Free Semi Choc"
      ]
     },
     "metadata": {},
     "output_type": "display_data"
    }
   ],
   "source": [
    "#the same query but projecting on customer_name  and the products \n",
    "leftJoined= psql.read_sql(\"\"\"SELECT name, product FROM customer \n",
    "                        LEFT JOIN  \"order\" \n",
    "                        ON customer.id = \"order\".customer_id\n",
    "                        ORDER BY name DESC\n",
    "                      \"\"\", con)\n",
    "display(leftJoined)"
   ]
  },
  {
   "cell_type": "markdown",
   "metadata": {},
   "source": [
    "### RIGHT JOIN\n",
    "- Opposite to LEFT JOIN\n",
    "- This selects all the rows from the table on the right, and then rows from the left if they match.\n",
    "- If they don’t match, the data for the table on the left is blank (NULLS).\n"
   ]
  },
  {
   "cell_type": "markdown",
   "metadata": {},
   "source": [
    "##### Now, we insert one product that doen't have customer to buy (don't make alot of sense, but just for the example!!)"
   ]
  },
  {
   "cell_type": "code",
   "execution_count": 35,
   "metadata": {},
   "outputs": [
    {
     "name": "stdout",
     "output_type": "stream",
     "text": [
      "1 Record inserted successfully into person table\n"
     ]
    }
   ],
   "source": [
    "postgres_insert_query = \"\"\" INSERT INTO \"order\" (id,customer_id,product) VALUES (%s,%s,%s)\"\"\"\n",
    "record_to_insert = (7,None,'Dark Choclate')\n",
    "\n",
    "try:\n",
    "    cursor.execute(postgres_insert_query, record_to_insert)\n",
    "    con.commit()\n",
    "except (Exception, psycopg2.Error) as error :\n",
    "    con.rollback()\n",
    "    print(\"ERROR\",error)\n",
    "    \n",
    "count = cursor.rowcount\n",
    "print (count, \"Record inserted successfully into person table\")"
   ]
  },
  {
   "cell_type": "markdown",
   "metadata": {},
   "source": [
    "#### Perform the same query but projecting on customer_name and the products "
   ]
  },
  {
   "cell_type": "code",
   "execution_count": 36,
   "metadata": {},
   "outputs": [
    {
     "name": "stderr",
     "output_type": "stream",
     "text": [
      "/tmp/ipykernel_366/809818566.py:1: UserWarning: pandas only supports SQLAlchemy connectable (engine/connection) or database string URI or sqlite3 DBAPI2 connection. Other DBAPI2 objects are not tested. Please consider using SQLAlchemy.\n",
      "  RightJoined= psql.read_sql(\"\"\"SELECT name, product FROM customer\n"
     ]
    },
    {
     "data": {
      "text/html": [
       "<div>\n",
       "<style scoped>\n",
       "    .dataframe tbody tr th:only-of-type {\n",
       "        vertical-align: middle;\n",
       "    }\n",
       "\n",
       "    .dataframe tbody tr th {\n",
       "        vertical-align: top;\n",
       "    }\n",
       "\n",
       "    .dataframe thead th {\n",
       "        text-align: right;\n",
       "    }\n",
       "</style>\n",
       "<table border=\"1\" class=\"dataframe\">\n",
       "  <thead>\n",
       "    <tr style=\"text-align: right;\">\n",
       "      <th></th>\n",
       "      <th>name</th>\n",
       "      <th>product</th>\n",
       "    </tr>\n",
       "  </thead>\n",
       "  <tbody>\n",
       "    <tr>\n",
       "      <th>0</th>\n",
       "      <td>None</td>\n",
       "      <td>Dark Choclate</td>\n",
       "    </tr>\n",
       "    <tr>\n",
       "      <th>1</th>\n",
       "      <td>Mohamed Ragab</td>\n",
       "      <td>Sauce - Demi Glace</td>\n",
       "    </tr>\n",
       "    <tr>\n",
       "      <th>2</th>\n",
       "      <td>Mohamed Ragab</td>\n",
       "      <td>Coffee - Irish Cream</td>\n",
       "    </tr>\n",
       "    <tr>\n",
       "      <th>3</th>\n",
       "      <td>Mohamed Ragab</td>\n",
       "      <td>Cumin - Whole</td>\n",
       "    </tr>\n",
       "    <tr>\n",
       "      <th>4</th>\n",
       "      <td>John Smith</td>\n",
       "      <td>Corn Meal</td>\n",
       "    </tr>\n",
       "    <tr>\n",
       "      <th>5</th>\n",
       "      <td>Jean Lime</td>\n",
       "      <td>Rolled Oats</td>\n",
       "    </tr>\n",
       "    <tr>\n",
       "      <th>6</th>\n",
       "      <td>Aisha Kareem</td>\n",
       "      <td>Chocolate - Sugar Free Semi Choc</td>\n",
       "    </tr>\n",
       "  </tbody>\n",
       "</table>\n",
       "</div>"
      ],
      "text/plain": [
       "            name                           product\n",
       "0           None                     Dark Choclate\n",
       "1  Mohamed Ragab                Sauce - Demi Glace\n",
       "2  Mohamed Ragab              Coffee - Irish Cream\n",
       "3  Mohamed Ragab                     Cumin - Whole\n",
       "4     John Smith                         Corn Meal\n",
       "5      Jean Lime                       Rolled Oats\n",
       "6   Aisha Kareem  Chocolate - Sugar Free Semi Choc"
      ]
     },
     "metadata": {},
     "output_type": "display_data"
    }
   ],
   "source": [
    "RightJoined= psql.read_sql(\"\"\"SELECT name, product FROM customer \n",
    "                        RIGHT JOIN  \"order\" \n",
    "                        ON customer.id = \"order\".customer_id\n",
    "                        ORDER BY name DESC\n",
    "                      \"\"\", con)\n",
    "display(RightJoined)"
   ]
  },
  {
   "cell_type": "markdown",
   "metadata": {},
   "source": [
    "### FULL JOIN\n",
    "- This selects all rows from both tables, matching them if there is a match on the selecting column.\n",
    "\n",
    "- Think of it as a LEFT and a RIGHT join.\n"
   ]
  },
  {
   "cell_type": "code",
   "execution_count": 37,
   "metadata": {
    "scrolled": true
   },
   "outputs": [
    {
     "name": "stderr",
     "output_type": "stream",
     "text": [
      "/tmp/ipykernel_366/1199576038.py:1: UserWarning: pandas only supports SQLAlchemy connectable (engine/connection) or database string URI or sqlite3 DBAPI2 connection. Other DBAPI2 objects are not tested. Please consider using SQLAlchemy.\n",
      "  fullJoined= psql.read_sql(\"\"\"SELECT name, product FROM customer\n"
     ]
    },
    {
     "data": {
      "text/html": [
       "<div>\n",
       "<style scoped>\n",
       "    .dataframe tbody tr th:only-of-type {\n",
       "        vertical-align: middle;\n",
       "    }\n",
       "\n",
       "    .dataframe tbody tr th {\n",
       "        vertical-align: top;\n",
       "    }\n",
       "\n",
       "    .dataframe thead th {\n",
       "        text-align: right;\n",
       "    }\n",
       "</style>\n",
       "<table border=\"1\" class=\"dataframe\">\n",
       "  <thead>\n",
       "    <tr style=\"text-align: right;\">\n",
       "      <th></th>\n",
       "      <th>name</th>\n",
       "      <th>product</th>\n",
       "    </tr>\n",
       "  </thead>\n",
       "  <tbody>\n",
       "    <tr>\n",
       "      <th>0</th>\n",
       "      <td>None</td>\n",
       "      <td>Dark Choclate</td>\n",
       "    </tr>\n",
       "    <tr>\n",
       "      <th>1</th>\n",
       "      <td>Mohamed Ragab</td>\n",
       "      <td>Sauce - Demi Glace</td>\n",
       "    </tr>\n",
       "    <tr>\n",
       "      <th>2</th>\n",
       "      <td>Mohamed Ragab</td>\n",
       "      <td>Cumin - Whole</td>\n",
       "    </tr>\n",
       "    <tr>\n",
       "      <th>3</th>\n",
       "      <td>Mohamed Ragab</td>\n",
       "      <td>Coffee - Irish Cream</td>\n",
       "    </tr>\n",
       "    <tr>\n",
       "      <th>4</th>\n",
       "      <td>John Smith</td>\n",
       "      <td>Corn Meal</td>\n",
       "    </tr>\n",
       "    <tr>\n",
       "      <th>5</th>\n",
       "      <td>Jean Lime</td>\n",
       "      <td>Rolled Oats</td>\n",
       "    </tr>\n",
       "    <tr>\n",
       "      <th>6</th>\n",
       "      <td>Hassan Eldeeb</td>\n",
       "      <td>None</td>\n",
       "    </tr>\n",
       "    <tr>\n",
       "      <th>7</th>\n",
       "      <td>Aisha Kareem</td>\n",
       "      <td>Chocolate - Sugar Free Semi Choc</td>\n",
       "    </tr>\n",
       "  </tbody>\n",
       "</table>\n",
       "</div>"
      ],
      "text/plain": [
       "            name                           product\n",
       "0           None                     Dark Choclate\n",
       "1  Mohamed Ragab                Sauce - Demi Glace\n",
       "2  Mohamed Ragab                     Cumin - Whole\n",
       "3  Mohamed Ragab              Coffee - Irish Cream\n",
       "4     John Smith                         Corn Meal\n",
       "5      Jean Lime                       Rolled Oats\n",
       "6  Hassan Eldeeb                              None\n",
       "7   Aisha Kareem  Chocolate - Sugar Free Semi Choc"
      ]
     },
     "metadata": {},
     "output_type": "display_data"
    }
   ],
   "source": [
    "fullJoined= psql.read_sql(\"\"\"SELECT name, product FROM customer \n",
    "                             FULL JOIN  \"order\" \n",
    "                             ON customer.id = \"order\".customer_id\n",
    "                             ORDER BY name DESC \"\"\", con)\n",
    "display(fullJoined)"
   ]
  },
  {
   "cell_type": "markdown",
   "metadata": {},
   "source": [
    "## Task 2: Create another RDB model (MovieDB)\n",
    "\n",
    "This is another DB about movies and actors who played roles in these movies. Particularly, this DB is consisted of the following tables:  \n",
    "\n",
    "- A ***\"Person\"*** table who has a unique **id**, and another **name** field.\n",
    "- Another ***\"Movie\"*** table that has a unique **id**, a **title**, a **country** where it was made, and a **year** when it was released.\n",
    "\n",
    "- There is (***m-n**) or ***\"many-many\"** relationship between these two tables (i.e basically, many actors can act in many movies, and the movie include many actors).\n",
    "- ***Many-to-many*** are handeled as follows: We have to use a ***junction table** (<font color='green'>example</font>: https://gist.github.com/anonymous/79c2eed2a634777b16ff)\n",
    "- Therefore, we use the **\"Roles\"** table in which we can deduct which person has acted in which movie, and what role(s) they played in this movie.\n"
   ]
  },
  {
   "cell_type": "markdown",
   "metadata": {},
   "source": [
    "#### Use one of the drawing tools to plot an ER model of this described DB\n",
    "- you can use the mentioned ER diagramitic tool in lecture slides (link: https://erdplus.com/)"
   ]
  },
  {
   "attachments": {
    "42b481ad-63e2-483f-aa1c-52fc2c3caa51.png": {
     "image/png": "[encoded data removed]"
    }
   },
   "cell_type": "markdown",
   "metadata": {},
   "source": [
    "##### <font color='red'>YOUR DB SCHEMA IMAGE HERE: ![image.png](attachment:42b481ad-63e2-483f-aa1c-52fc2c3caa51.png) </font>"
   ]
  },
  {
   "cell_type": "markdown",
   "metadata": {},
   "source": [
    "#### Create the MovieDB "
   ]
  },
  {
   "cell_type": "code",
   "execution_count": 38,
   "metadata": {},
   "outputs": [
    {
     "name": "stdout",
     "output_type": "stream",
     "text": [
      "Connected Successfully to PostgreSQL server!!\n"
     ]
    }
   ],
   "source": [
    "try:\n",
    "    # Connect to the postgreSQL server with username, and password credentials\n",
    "    con = psycopg2.connect(user = \"postgres\",\n",
    "                                  password = \"postgres\",\n",
    "                                  host = \"postgres\",\n",
    "                                  port = \"5432\")\n",
    "    \n",
    "    con.set_isolation_level(ISOLATION_LEVEL_AUTOCOMMIT);\n",
    "    print(\"Connected Successfully to PostgreSQL server!!\")\n",
    "    \n",
    "    # Obtain a DB Cursor to perform database operations\n",
    "    cursor = con.cursor();\n",
    "except (Exception, psycopg2.Error) as error :\n",
    "     print (\"Error while connecting to PostgreSQL\", error)"
   ]
  },
  {
   "cell_type": "code",
   "execution_count": 39,
   "metadata": {},
   "outputs": [
    {
     "name": "stdout",
     "output_type": "stream",
     "text": [
      "Database 'moviedb' Created Successfully!\n"
     ]
    }
   ],
   "source": [
    "#YOUR CODE HERE to create the movie DB\n",
    "#DB_name variable    \n",
    "name_Database   = \"moviedb\";\n",
    "\n",
    "# Create DB statement\n",
    "sqlCreateDatabase = \"CREATE DATABASE \"+name_Database+\";\"\n",
    "\n",
    "try:\n",
    "    # Execute a SQL command: this creates a new DB\n",
    "    cursor.execute(sqlCreateDatabase);\n",
    "    print(\"Database '\"+name_Database+\"' Created Successfully!\")\n",
    "except (Exception, psycopg2.Error) as error :\n",
    "    print(\"Error While Creating the DB: \",error)\n",
    "    \n",
    "finally:\n",
    "    # Close communication with the database\n",
    "    cursor.close() #to close the cusrsor\n",
    "    con.close() #to close the connection/ we will open a new connection to the created DB"
   ]
  },
  {
   "cell_type": "markdown",
   "metadata": {},
   "source": [
    "#### Creating  the Movie Table"
   ]
  },
  {
   "cell_type": "code",
   "execution_count": 40,
   "metadata": {},
   "outputs": [
    {
     "name": "stdout",
     "output_type": "stream",
     "text": [
      "connected again to the server and cusor now on MovieDB DB !!\n"
     ]
    }
   ],
   "source": [
    "# get a new connection but this time point to the created \"tartupurchases\" DB.\n",
    "con = psycopg2.connect(user = \"postgres\",\n",
    "                       password = \"postgres\", \n",
    "                       host = \"postgres\", #Using Docker we can refer to containers by name\n",
    "                       port = \"5432\",\n",
    "                       database = \"moviedb\")\n",
    "\n",
    "try:\n",
    "    # Obtain a new DB Cursor (to \"tartupurchases\" DB )\n",
    "    cursor = con.cursor();\n",
    "    print(\"connected again to the server and cusor now on MovieDB DB !!\")\n",
    "except (Exception, psycopg2.Error) as error:\n",
    "    print(\"Error in Connection\",error)"
   ]
  },
  {
   "cell_type": "code",
   "execution_count": 41,
   "metadata": {},
   "outputs": [
    {
     "name": "stdout",
     "output_type": "stream",
     "text": [
      "Table (movie) created successfully in PostgreSQL \n"
     ]
    }
   ],
   "source": [
    "#YOUR CODE HERE to create the \"Movie\" table\n",
    "try:\n",
    "    #table_name variable\n",
    "    movieTable=\"movie\"\n",
    "    create_movieTable_query = '''CREATE TABLE '''+ movieTable+''' \n",
    "              (id INT  PRIMARY KEY     NOT NULL,\n",
    "               title           TEXT    NOT NULL,\n",
    "               country        TEXT    NOT NULL,\n",
    "               year          INT NOT NULL   \n",
    "               ); '''\n",
    "\n",
    "    #Execute this command (SQL Query)\n",
    "    cursor.execute(create_movieTable_query)\n",
    "    \n",
    "    # Make the changes to the database persistent\n",
    "    con.commit()\n",
    "    print(\"Table (\"+ movieTable +\") created successfully in PostgreSQL \")\n",
    "except (Exception, psycopg2.Error) as error:\n",
    "    # if it exits with an exception the transaction is rolled back.\n",
    "    con.rollback()\n",
    "    print(\"Error While Creating the DB: \",error)"
   ]
  },
  {
   "cell_type": "markdown",
   "metadata": {},
   "source": [
    "#### Creating  the \"Person\" Table"
   ]
  },
  {
   "cell_type": "code",
   "execution_count": 42,
   "metadata": {},
   "outputs": [
    {
     "name": "stdout",
     "output_type": "stream",
     "text": [
      "Table (person) created successfully in PostgreSQL \n"
     ]
    }
   ],
   "source": [
    "#YOUR CODE HERE to create the Person table\n",
    "try:\n",
    "    #table_name variable\n",
    "    personTable=\"person\"\n",
    "    create_personTable_query = '''CREATE TABLE '''+ personTable+''' \n",
    "              (id INT  PRIMARY KEY     NOT NULL,\n",
    "               name           TEXT    NOT NULL\n",
    "               ); '''\n",
    "\n",
    "    #Execute this command (SQL Query)\n",
    "    cursor.execute(create_personTable_query)\n",
    "    \n",
    "    # Make the changes to the database persistent\n",
    "    con.commit()\n",
    "    print(\"Table (\"+ personTable +\") created successfully in PostgreSQL \")\n",
    "except (Exception, psycopg2.Error) as error:\n",
    "    # if it exits with an exception the transaction is rolled back.\n",
    "    con.rollback()\n",
    "    print(\"Error While Creating the DB: \",error)"
   ]
  },
  {
   "cell_type": "markdown",
   "metadata": {},
   "source": [
    "#### Creating  the \"Roles\" relationship Table"
   ]
  },
  {
   "cell_type": "code",
   "execution_count": 43,
   "metadata": {},
   "outputs": [
    {
     "name": "stdout",
     "output_type": "stream",
     "text": [
      "Table (roles) created successfully in PostgreSQL \n"
     ]
    }
   ],
   "source": [
    "#YOUR CODE HERE to create the Roles relationship table\n",
    "try:\n",
    "    #table_name variable\n",
    "    rolesTable=\"roles\"\n",
    "    create_rolesTable_query = '''CREATE TABLE '''+ rolesTable+''' \n",
    "              (person_id  INT  REFERENCES person(id),\n",
    "               movie_id  INT  REFERENCES movie(id),\n",
    "               role TEXT NOT NULL\n",
    "               ); '''\n",
    "\n",
    "    #Execute this command (SQL Query)\n",
    "    cursor.execute(create_rolesTable_query)\n",
    "    \n",
    "    # Make the changes to the database persistent\n",
    "    con.commit()\n",
    "    print(\"Table (\"+ rolesTable +\") created successfully in PostgreSQL \")\n",
    "except (Exception, psycopg2.Error) as error:\n",
    "    # if it exits with an exception the transaction is rolled back.\n",
    "    con.rollback()\n",
    "    print(\"Error While Creating the DB: \",error)"
   ]
  },
  {
   "cell_type": "markdown",
   "metadata": {},
   "source": [
    "### Data Insertions\n",
    "\n",
    "Please, use the following demo datasets for allocating some data in the tables\n",
    "\n",
    "- **Person Table**:\n",
    "        id,name\n",
    "        1,Charlie Sheen\n",
    "        2,Michael Douglas\n",
    "        3,Martin Sheen\n",
    "        4,Morgan Freeman\n",
    "\n",
    "- ***Movie Table***:\n",
    "        id,title,country,year\n",
    "        1,Wall Street,USA,1987\n",
    "        2,The American President,USA,1995\n",
    "        3,The Shawshank Redemption,USA,1994\n",
    "\n",
    "- ***Roles Relationship*** (<font color='green'>Conjunction Table</font>):\n",
    "        personId,movieId,role\n",
    "        1,1,Bud Fox\n",
    "        2,1,Carl Fox\n",
    "        3,1,Gordon Gekko\n",
    "        2,2,A.J. MacInerney\n",
    "        3,2,President Andrew Shepherd\n",
    "        4,3,Ellis Boyd 'Red' Redding"
   ]
  },
  {
   "cell_type": "markdown",
   "metadata": {},
   "source": [
    "#### Insert Data to the Person Table"
   ]
  },
  {
   "cell_type": "code",
   "execution_count": 44,
   "metadata": {},
   "outputs": [
    {
     "name": "stdout",
     "output_type": "stream",
     "text": [
      "4 Record inserted successfully into persons table\n"
     ]
    }
   ],
   "source": [
    "### YOUR CODE HERE!!\n",
    "sql_insert_persons = '''INSERT INTO \"person\" (id, name) VALUES(%s,%s)'''\n",
    "\n",
    "#list of customers\n",
    "persons_List=[\n",
    "        (1, \"Charlie Sheen\"),\n",
    "        (2, \"Michael Douglas\"),\n",
    "        (3,\"Martin Sheen\"),\n",
    "        (4,\"Morgan Freeman\")]\n",
    "try:\n",
    "    # execute the INSERT statement\n",
    "    cursor.executemany(sql_insert_persons,persons_List)\n",
    "    # commit the changes to the database\n",
    "    con.commit()\n",
    "\n",
    "except (Exception, psycopg2.Error) as error :\n",
    "    con.rollback()\n",
    "    print (\"Error while exccuting the query at PostgreSQL\",error)\n",
    "    \n",
    "finally:\n",
    "    count = cursor.rowcount\n",
    "    print (count, \"Record inserted successfully into persons table\")"
   ]
  },
  {
   "cell_type": "markdown",
   "metadata": {},
   "source": [
    "#### Insert Data to the Movie Table"
   ]
  },
  {
   "cell_type": "code",
   "execution_count": 45,
   "metadata": {},
   "outputs": [
    {
     "name": "stdout",
     "output_type": "stream",
     "text": [
      "3 Record inserted successfully into movies table\n"
     ]
    }
   ],
   "source": [
    "### YOUR CODE HERE!!\n",
    "sql_insert_movies = '''INSERT INTO \"movie\" (id, title, country, year) VALUES(%s,%s,%s,%s)'''\n",
    "\n",
    "#list of customers\n",
    "movies_List=[\n",
    "        (1,\"Wall Street\",\"USA\",1987),\n",
    "        (2,\"The American President\",\"USA\",1995),\n",
    "        (3,\"The Shawshank Redemption\",\"USA\",1994),]\n",
    "try:\n",
    "    # execute the INSERT statement\n",
    "    cursor.executemany(sql_insert_movies,movies_List)\n",
    "    # commit the changes to the database\n",
    "    con.commit()\n",
    "\n",
    "except (Exception, psycopg2.Error) as error :\n",
    "    con.rollback()\n",
    "    print (\"Error while exccuting the query at PostgreSQL\",error)\n",
    "    \n",
    "finally:\n",
    "    count = cursor.rowcount\n",
    "    print (count, \"Record inserted successfully into movies table\")"
   ]
  },
  {
   "cell_type": "markdown",
   "metadata": {},
   "source": [
    "#### Insert Data to the Roles Table"
   ]
  },
  {
   "cell_type": "code",
   "execution_count": 47,
   "metadata": {},
   "outputs": [
    {
     "name": "stdout",
     "output_type": "stream",
     "text": [
      "6 Record inserted successfully into roles table\n"
     ]
    }
   ],
   "source": [
    "### YOUR CODE HERE!!\n",
    "sql_insert_roles = '''INSERT INTO \"roles\" (person_id,movie_id,role) VALUES(%s,%s,%s)'''\n",
    "\n",
    "#list of customers\n",
    "roles_List=[\n",
    "        (1,1,\"Bud Fox\"),\n",
    "        (2,1,\"Carl Fox\"),\n",
    "        (3,1,\"Gordon Gekko\"),\n",
    "        (2,2,\"A.J. MacInerney\"),\n",
    "        (3,2,\"President Andrew Shepherd\"),\n",
    "        (4,3,\"Ellis Boyd 'Red' Redding\")]\n",
    "try:\n",
    "    # execute the INSERT statement\n",
    "    cursor.executemany(sql_insert_roles,roles_List)\n",
    "    # commit the changes to the database\n",
    "    con.commit()\n",
    "\n",
    "except (Exception, psycopg2.Error) as error :\n",
    "    con.rollback()\n",
    "    print (\"Error while exccuting the query at PostgreSQL\",error)\n",
    "    \n",
    "finally:\n",
    "    count = cursor.rowcount\n",
    "    print (count, \"Record inserted successfully into roles table\")"
   ]
  },
  {
   "cell_type": "markdown",
   "metadata": {},
   "source": [
    "#### Get all Actors (Persons) from the movie DB"
   ]
  },
  {
   "cell_type": "code",
   "execution_count": 48,
   "metadata": {},
   "outputs": [
    {
     "name": "stderr",
     "output_type": "stream",
     "text": [
      "/tmp/ipykernel_366/1165174090.py:1: UserWarning: pandas only supports SQLAlchemy connectable (engine/connection) or database string URI or sqlite3 DBAPI2 connection. Other DBAPI2 objects are not tested. Please consider using SQLAlchemy.\n",
      "  my_table= pd.read_sql('SELECT * FROM Person', con)\n"
     ]
    },
    {
     "data": {
      "text/html": [
       "<div>\n",
       "<style scoped>\n",
       "    .dataframe tbody tr th:only-of-type {\n",
       "        vertical-align: middle;\n",
       "    }\n",
       "\n",
       "    .dataframe tbody tr th {\n",
       "        vertical-align: top;\n",
       "    }\n",
       "\n",
       "    .dataframe thead th {\n",
       "        text-align: right;\n",
       "    }\n",
       "</style>\n",
       "<table border=\"1\" class=\"dataframe\">\n",
       "  <thead>\n",
       "    <tr style=\"text-align: right;\">\n",
       "      <th></th>\n",
       "      <th>id</th>\n",
       "      <th>name</th>\n",
       "    </tr>\n",
       "  </thead>\n",
       "  <tbody>\n",
       "    <tr>\n",
       "      <th>0</th>\n",
       "      <td>1</td>\n",
       "      <td>Charlie Sheen</td>\n",
       "    </tr>\n",
       "    <tr>\n",
       "      <th>1</th>\n",
       "      <td>2</td>\n",
       "      <td>Michael Douglas</td>\n",
       "    </tr>\n",
       "    <tr>\n",
       "      <th>2</th>\n",
       "      <td>3</td>\n",
       "      <td>Martin Sheen</td>\n",
       "    </tr>\n",
       "    <tr>\n",
       "      <th>3</th>\n",
       "      <td>4</td>\n",
       "      <td>Morgan Freeman</td>\n",
       "    </tr>\n",
       "  </tbody>\n",
       "</table>\n",
       "</div>"
      ],
      "text/plain": [
       "   id             name\n",
       "0   1    Charlie Sheen\n",
       "1   2  Michael Douglas\n",
       "2   3     Martin Sheen\n",
       "3   4   Morgan Freeman"
      ]
     },
     "metadata": {},
     "output_type": "display_data"
    }
   ],
   "source": [
    "my_table= pd.read_sql('SELECT * FROM Person', con)\n",
    "display(my_table)"
   ]
  },
  {
   "cell_type": "markdown",
   "metadata": {},
   "source": [
    "#### Get All Movies , sorted from recent to old"
   ]
  },
  {
   "cell_type": "code",
   "execution_count": 51,
   "metadata": {},
   "outputs": [
    {
     "name": "stderr",
     "output_type": "stream",
     "text": [
      "/tmp/ipykernel_366/320915686.py:1: UserWarning: pandas only supports SQLAlchemy connectable (engine/connection) or database string URI or sqlite3 DBAPI2 connection. Other DBAPI2 objects are not tested. Please consider using SQLAlchemy.\n",
      "  moviesOrdered = pd.read_sql(''' SELECT * FROM Movie ORDER BY year DESC  ''', con)\n"
     ]
    },
    {
     "data": {
      "text/html": [
       "<div>\n",
       "<style scoped>\n",
       "    .dataframe tbody tr th:only-of-type {\n",
       "        vertical-align: middle;\n",
       "    }\n",
       "\n",
       "    .dataframe tbody tr th {\n",
       "        vertical-align: top;\n",
       "    }\n",
       "\n",
       "    .dataframe thead th {\n",
       "        text-align: right;\n",
       "    }\n",
       "</style>\n",
       "<table border=\"1\" class=\"dataframe\">\n",
       "  <thead>\n",
       "    <tr style=\"text-align: right;\">\n",
       "      <th></th>\n",
       "      <th>id</th>\n",
       "      <th>title</th>\n",
       "      <th>country</th>\n",
       "      <th>year</th>\n",
       "    </tr>\n",
       "  </thead>\n",
       "  <tbody>\n",
       "    <tr>\n",
       "      <th>0</th>\n",
       "      <td>2</td>\n",
       "      <td>The American President</td>\n",
       "      <td>USA</td>\n",
       "      <td>1995</td>\n",
       "    </tr>\n",
       "    <tr>\n",
       "      <th>1</th>\n",
       "      <td>3</td>\n",
       "      <td>The Shawshank Redemption</td>\n",
       "      <td>USA</td>\n",
       "      <td>1994</td>\n",
       "    </tr>\n",
       "    <tr>\n",
       "      <th>2</th>\n",
       "      <td>1</td>\n",
       "      <td>Wall Street</td>\n",
       "      <td>USA</td>\n",
       "      <td>1987</td>\n",
       "    </tr>\n",
       "  </tbody>\n",
       "</table>\n",
       "</div>"
      ],
      "text/plain": [
       "   id                     title country  year\n",
       "0   2    The American President     USA  1995\n",
       "1   3  The Shawshank Redemption     USA  1994\n",
       "2   1               Wall Street     USA  1987"
      ]
     },
     "metadata": {},
     "output_type": "display_data"
    }
   ],
   "source": [
    "moviesOrdered = pd.read_sql(''' SELECT * FROM Movie ORDER BY year DESC  ''', con)\n",
    "display(moviesOrdered)"
   ]
  },
  {
   "cell_type": "markdown",
   "metadata": {},
   "source": [
    "#### Get All Movies released in the 90s (after year (1990) and before 2000) ordered from old to recent."
   ]
  },
  {
   "cell_type": "code",
   "execution_count": 53,
   "metadata": {},
   "outputs": [
    {
     "name": "stderr",
     "output_type": "stream",
     "text": [
      "/tmp/ipykernel_366/1528323187.py:1: UserWarning: pandas only supports SQLAlchemy connectable (engine/connection) or database string URI or sqlite3 DBAPI2 connection. Other DBAPI2 objects are not tested. Please consider using SQLAlchemy.\n",
      "  movies90 = pd.read_sql('''  SELECT * FROM Movie WHERE year>=1990 AND year<2000  ORDER BY year DESC   ''', con)\n"
     ]
    },
    {
     "data": {
      "text/html": [
       "<div>\n",
       "<style scoped>\n",
       "    .dataframe tbody tr th:only-of-type {\n",
       "        vertical-align: middle;\n",
       "    }\n",
       "\n",
       "    .dataframe tbody tr th {\n",
       "        vertical-align: top;\n",
       "    }\n",
       "\n",
       "    .dataframe thead th {\n",
       "        text-align: right;\n",
       "    }\n",
       "</style>\n",
       "<table border=\"1\" class=\"dataframe\">\n",
       "  <thead>\n",
       "    <tr style=\"text-align: right;\">\n",
       "      <th></th>\n",
       "      <th>id</th>\n",
       "      <th>title</th>\n",
       "      <th>country</th>\n",
       "      <th>year</th>\n",
       "    </tr>\n",
       "  </thead>\n",
       "  <tbody>\n",
       "    <tr>\n",
       "      <th>0</th>\n",
       "      <td>2</td>\n",
       "      <td>The American President</td>\n",
       "      <td>USA</td>\n",
       "      <td>1995</td>\n",
       "    </tr>\n",
       "    <tr>\n",
       "      <th>1</th>\n",
       "      <td>3</td>\n",
       "      <td>The Shawshank Redemption</td>\n",
       "      <td>USA</td>\n",
       "      <td>1994</td>\n",
       "    </tr>\n",
       "  </tbody>\n",
       "</table>\n",
       "</div>"
      ],
      "text/plain": [
       "   id                     title country  year\n",
       "0   2    The American President     USA  1995\n",
       "1   3  The Shawshank Redemption     USA  1994"
      ]
     },
     "metadata": {},
     "output_type": "display_data"
    }
   ],
   "source": [
    "movies90 = pd.read_sql('''  SELECT * FROM Movie WHERE year>=1990 AND year<2000 ORDER BY year DESC   ''', con)\n",
    "display(movies90)"
   ]
  },
  {
   "cell_type": "markdown",
   "metadata": {},
   "source": [
    "#### Get Movies and Actors from your  \"movies\" DB"
   ]
  },
  {
   "cell_type": "code",
   "execution_count": 97,
   "metadata": {},
   "outputs": [
    {
     "name": "stderr",
     "output_type": "stream",
     "text": [
      "/tmp/ipykernel_366/2805146659.py:1: UserWarning: pandas only supports SQLAlchemy connectable (engine/connection) or database string URI or sqlite3 DBAPI2 connection. Other DBAPI2 objects are not tested. Please consider using SQLAlchemy.\n",
      "  moviesActors = pd.read_sql(''' SELECT Movie.title, Person.name FROM Movie\n"
     ]
    },
    {
     "data": {
      "text/html": [
       "<div>\n",
       "<style scoped>\n",
       "    .dataframe tbody tr th:only-of-type {\n",
       "        vertical-align: middle;\n",
       "    }\n",
       "\n",
       "    .dataframe tbody tr th {\n",
       "        vertical-align: top;\n",
       "    }\n",
       "\n",
       "    .dataframe thead th {\n",
       "        text-align: right;\n",
       "    }\n",
       "</style>\n",
       "<table border=\"1\" class=\"dataframe\">\n",
       "  <thead>\n",
       "    <tr style=\"text-align: right;\">\n",
       "      <th></th>\n",
       "      <th>title</th>\n",
       "      <th>name</th>\n",
       "    </tr>\n",
       "  </thead>\n",
       "  <tbody>\n",
       "    <tr>\n",
       "      <th>0</th>\n",
       "      <td>Wall Street</td>\n",
       "      <td>Charlie Sheen</td>\n",
       "    </tr>\n",
       "    <tr>\n",
       "      <th>1</th>\n",
       "      <td>Wall Street</td>\n",
       "      <td>Michael Douglas</td>\n",
       "    </tr>\n",
       "    <tr>\n",
       "      <th>2</th>\n",
       "      <td>Wall Street</td>\n",
       "      <td>Martin Sheen</td>\n",
       "    </tr>\n",
       "    <tr>\n",
       "      <th>3</th>\n",
       "      <td>The American President</td>\n",
       "      <td>Michael Douglas</td>\n",
       "    </tr>\n",
       "    <tr>\n",
       "      <th>4</th>\n",
       "      <td>The American President</td>\n",
       "      <td>Martin Sheen</td>\n",
       "    </tr>\n",
       "    <tr>\n",
       "      <th>5</th>\n",
       "      <td>The Shawshank Redemption</td>\n",
       "      <td>Morgan Freeman</td>\n",
       "    </tr>\n",
       "  </tbody>\n",
       "</table>\n",
       "</div>"
      ],
      "text/plain": [
       "                      title             name\n",
       "0               Wall Street    Charlie Sheen\n",
       "1               Wall Street  Michael Douglas\n",
       "2               Wall Street     Martin Sheen\n",
       "3    The American President  Michael Douglas\n",
       "4    The American President     Martin Sheen\n",
       "5  The Shawshank Redemption   Morgan Freeman"
      ]
     },
     "metadata": {},
     "output_type": "display_data"
    }
   ],
   "source": [
    "moviesActors = pd.read_sql(''' SELECT Movie.title, Person.name FROM Movie\n",
    "                                INNER JOIN Roles ON Movie.id = Roles.movie_id\n",
    "                                INNER JOIN Person ON Person.id = Roles.person_id    \n",
    "                              ''', con)\n",
    "\n",
    "display(moviesActors)"
   ]
  },
  {
   "cell_type": "markdown",
   "metadata": {},
   "source": [
    "#### Get count of \"Movies\" in your DB"
   ]
  },
  {
   "cell_type": "code",
   "execution_count": 62,
   "metadata": {},
   "outputs": [
    {
     "name": "stderr",
     "output_type": "stream",
     "text": [
      "/tmp/ipykernel_366/2402570248.py:1: UserWarning: pandas only supports SQLAlchemy connectable (engine/connection) or database string URI or sqlite3 DBAPI2 connection. Other DBAPI2 objects are not tested. Please consider using SQLAlchemy.\n",
      "  count_table= pd.read_sql(' SELECT COUNT(*) FROM MoviE' , con)\n"
     ]
    },
    {
     "data": {
      "text/html": [
       "<div>\n",
       "<style scoped>\n",
       "    .dataframe tbody tr th:only-of-type {\n",
       "        vertical-align: middle;\n",
       "    }\n",
       "\n",
       "    .dataframe tbody tr th {\n",
       "        vertical-align: top;\n",
       "    }\n",
       "\n",
       "    .dataframe thead th {\n",
       "        text-align: right;\n",
       "    }\n",
       "</style>\n",
       "<table border=\"1\" class=\"dataframe\">\n",
       "  <thead>\n",
       "    <tr style=\"text-align: right;\">\n",
       "      <th></th>\n",
       "      <th>count</th>\n",
       "    </tr>\n",
       "  </thead>\n",
       "  <tbody>\n",
       "    <tr>\n",
       "      <th>0</th>\n",
       "      <td>3</td>\n",
       "    </tr>\n",
       "  </tbody>\n",
       "</table>\n",
       "</div>"
      ],
      "text/plain": [
       "   count\n",
       "0      3"
      ]
     },
     "metadata": {},
     "output_type": "display_data"
    }
   ],
   "source": [
    "count_table= pd.read_sql(' SELECT COUNT(*) FROM MoviE' , con)\n",
    "display(count_table)"
   ]
  },
  {
   "cell_type": "markdown",
   "metadata": {},
   "source": [
    "#### In this DB, for every \"Actor\" get the number of movies he played"
   ]
  },
  {
   "cell_type": "code",
   "execution_count": 81,
   "metadata": {},
   "outputs": [
    {
     "name": "stderr",
     "output_type": "stream",
     "text": [
      "/tmp/ipykernel_366/1006728712.py:1: UserWarning: pandas only supports SQLAlchemy connectable (engine/connection) or database string URI or sqlite3 DBAPI2 connection. Other DBAPI2 objects are not tested. Please consider using SQLAlchemy.\n",
      "  actorMoviesAgg= pd.read_sql('''  SELECT name, COUNT(*) AS played_in FROM Person\n"
     ]
    },
    {
     "data": {
      "text/html": [
       "<div>\n",
       "<style scoped>\n",
       "    .dataframe tbody tr th:only-of-type {\n",
       "        vertical-align: middle;\n",
       "    }\n",
       "\n",
       "    .dataframe tbody tr th {\n",
       "        vertical-align: top;\n",
       "    }\n",
       "\n",
       "    .dataframe thead th {\n",
       "        text-align: right;\n",
       "    }\n",
       "</style>\n",
       "<table border=\"1\" class=\"dataframe\">\n",
       "  <thead>\n",
       "    <tr style=\"text-align: right;\">\n",
       "      <th></th>\n",
       "      <th>name</th>\n",
       "      <th>played_in</th>\n",
       "    </tr>\n",
       "  </thead>\n",
       "  <tbody>\n",
       "    <tr>\n",
       "      <th>0</th>\n",
       "      <td>Michael Douglas</td>\n",
       "      <td>2</td>\n",
       "    </tr>\n",
       "    <tr>\n",
       "      <th>1</th>\n",
       "      <td>Martin Sheen</td>\n",
       "      <td>2</td>\n",
       "    </tr>\n",
       "    <tr>\n",
       "      <th>2</th>\n",
       "      <td>Morgan Freeman</td>\n",
       "      <td>1</td>\n",
       "    </tr>\n",
       "    <tr>\n",
       "      <th>3</th>\n",
       "      <td>Charlie Sheen</td>\n",
       "      <td>1</td>\n",
       "    </tr>\n",
       "  </tbody>\n",
       "</table>\n",
       "</div>"
      ],
      "text/plain": [
       "              name  played_in\n",
       "0  Michael Douglas          2\n",
       "1     Martin Sheen          2\n",
       "2   Morgan Freeman          1\n",
       "3    Charlie Sheen          1"
      ]
     },
     "metadata": {},
     "output_type": "display_data"
    }
   ],
   "source": [
    "actorMoviesAgg= pd.read_sql('''  SELECT name, COUNT(*) AS played_in FROM Person\n",
    "                                 LEFT JOIN Roles ON Person.id = Roles.person_id\n",
    "                                 GROUP BY Person.id;    \n",
    "                                    ''', con)\n",
    "display(actorMoviesAgg)"
   ]
  },
  {
   "cell_type": "markdown",
   "metadata": {},
   "source": [
    "#### In this DB, List the movies that every Actor Played\n",
    "<b>Hint:</b> use the aggregation function <b>\"ARRAY_AGG\"</b> to group movies as a list."
   ]
  },
  {
   "cell_type": "code",
   "execution_count": 102,
   "metadata": {},
   "outputs": [
    {
     "name": "stderr",
     "output_type": "stream",
     "text": [
      "/tmp/ipykernel_366/1152765391.py:1: UserWarning: pandas only supports SQLAlchemy connectable (engine/connection) or database string URI or sqlite3 DBAPI2 connection. Other DBAPI2 objects are not tested. Please consider using SQLAlchemy.\n",
      "  actorMoviesAggList= pd.read_sql(''' SELECT Person.name, ARRAY_AGG(Movie.title) FROM Movie\n"
     ]
    },
    {
     "data": {
      "text/html": [
       "<div>\n",
       "<style scoped>\n",
       "    .dataframe tbody tr th:only-of-type {\n",
       "        vertical-align: middle;\n",
       "    }\n",
       "\n",
       "    .dataframe tbody tr th {\n",
       "        vertical-align: top;\n",
       "    }\n",
       "\n",
       "    .dataframe thead th {\n",
       "        text-align: right;\n",
       "    }\n",
       "</style>\n",
       "<table border=\"1\" class=\"dataframe\">\n",
       "  <thead>\n",
       "    <tr style=\"text-align: right;\">\n",
       "      <th></th>\n",
       "      <th>name</th>\n",
       "      <th>array_agg</th>\n",
       "    </tr>\n",
       "  </thead>\n",
       "  <tbody>\n",
       "    <tr>\n",
       "      <th>0</th>\n",
       "      <td>Morgan Freeman</td>\n",
       "      <td>[The Shawshank Redemption]</td>\n",
       "    </tr>\n",
       "    <tr>\n",
       "      <th>1</th>\n",
       "      <td>Martin Sheen</td>\n",
       "      <td>[Wall Street, The American President]</td>\n",
       "    </tr>\n",
       "    <tr>\n",
       "      <th>2</th>\n",
       "      <td>Michael Douglas</td>\n",
       "      <td>[Wall Street, The American President]</td>\n",
       "    </tr>\n",
       "    <tr>\n",
       "      <th>3</th>\n",
       "      <td>Charlie Sheen</td>\n",
       "      <td>[Wall Street]</td>\n",
       "    </tr>\n",
       "  </tbody>\n",
       "</table>\n",
       "</div>"
      ],
      "text/plain": [
       "              name                              array_agg\n",
       "0   Morgan Freeman             [The Shawshank Redemption]\n",
       "1     Martin Sheen  [Wall Street, The American President]\n",
       "2  Michael Douglas  [Wall Street, The American President]\n",
       "3    Charlie Sheen                          [Wall Street]"
      ]
     },
     "metadata": {},
     "output_type": "display_data"
    }
   ],
   "source": [
    "actorMoviesAggList= pd.read_sql(''' SELECT Person.name, ARRAY_AGG(Movie.title) FROM Movie\n",
    "                                INNER JOIN Roles ON Movie.id = Roles.movie_id\n",
    "                                INNER JOIN Person ON Person.id = Roles.person_id\n",
    "                                GROUP BY Person.name\n",
    "                              ''', con)\n",
    "display(actorMoviesAggList)"
   ]
  },
  {
   "cell_type": "markdown",
   "metadata": {},
   "source": [
    "### UPDATE Table Data\n",
    "\n",
    "#### Update the year of production of the movie \"Wall Street\" to be 2000 instead of it's current year. Show the record before and after the update."
   ]
  },
  {
   "cell_type": "code",
   "execution_count": 103,
   "metadata": {},
   "outputs": [
    {
     "name": "stdout",
     "output_type": "stream",
     "text": [
      "Table (movie) updated successfully in PostgreSQL \n"
     ]
    }
   ],
   "source": [
    "try:\n",
    "    #table_name variable\n",
    "    moviesTable=\"movie\"\n",
    "    update_moviesTable_query = '''UPDATE movie\n",
    "                                 SET year = 2000\n",
    "                                 WHERE title='Wall Street';'''\n",
    "\n",
    "    #Execute this command (SQL Query)\n",
    "    cursor.execute(update_moviesTable_query)\n",
    "    \n",
    "    # Make the changes to the database persistent\n",
    "    con.commit()\n",
    "    print(\"Table (\"+ moviesTable +\") updated successfully in PostgreSQL \")\n",
    "except (Exception, psycopg2.Error) as error:\n",
    "    # if it exits with an exception the transaction is rolled back.\n",
    "    con.rollback()\n",
    "    print(\"Error While Creating the DB: \",error)"
   ]
  },
  {
   "cell_type": "code",
   "execution_count": 104,
   "metadata": {},
   "outputs": [
    {
     "name": "stderr",
     "output_type": "stream",
     "text": [
      "/tmp/ipykernel_366/928176128.py:1: UserWarning: pandas only supports SQLAlchemy connectable (engine/connection) or database string URI or sqlite3 DBAPI2 connection. Other DBAPI2 objects are not tested. Please consider using SQLAlchemy.\n",
      "  table = pd.read_sql(''' SELECT * FROM Movie\n"
     ]
    },
    {
     "data": {
      "text/html": [
       "<div>\n",
       "<style scoped>\n",
       "    .dataframe tbody tr th:only-of-type {\n",
       "        vertical-align: middle;\n",
       "    }\n",
       "\n",
       "    .dataframe tbody tr th {\n",
       "        vertical-align: top;\n",
       "    }\n",
       "\n",
       "    .dataframe thead th {\n",
       "        text-align: right;\n",
       "    }\n",
       "</style>\n",
       "<table border=\"1\" class=\"dataframe\">\n",
       "  <thead>\n",
       "    <tr style=\"text-align: right;\">\n",
       "      <th></th>\n",
       "      <th>id</th>\n",
       "      <th>title</th>\n",
       "      <th>country</th>\n",
       "      <th>year</th>\n",
       "    </tr>\n",
       "  </thead>\n",
       "  <tbody>\n",
       "    <tr>\n",
       "      <th>0</th>\n",
       "      <td>2</td>\n",
       "      <td>The American President</td>\n",
       "      <td>USA</td>\n",
       "      <td>1995</td>\n",
       "    </tr>\n",
       "    <tr>\n",
       "      <th>1</th>\n",
       "      <td>3</td>\n",
       "      <td>The Shawshank Redemption</td>\n",
       "      <td>USA</td>\n",
       "      <td>1994</td>\n",
       "    </tr>\n",
       "    <tr>\n",
       "      <th>2</th>\n",
       "      <td>1</td>\n",
       "      <td>Wall Street</td>\n",
       "      <td>USA</td>\n",
       "      <td>2000</td>\n",
       "    </tr>\n",
       "  </tbody>\n",
       "</table>\n",
       "</div>"
      ],
      "text/plain": [
       "   id                     title country  year\n",
       "0   2    The American President     USA  1995\n",
       "1   3  The Shawshank Redemption     USA  1994\n",
       "2   1               Wall Street     USA  2000"
      ]
     },
     "metadata": {},
     "output_type": "display_data"
    }
   ],
   "source": [
    "#Checking update...\n",
    "table = pd.read_sql(''' SELECT * FROM Movie\n",
    "                              ''', con)\n",
    "display(table)"
   ]
  },
  {
   "cell_type": "markdown",
   "metadata": {},
   "source": [
    "## Delete Table rows\n",
    "\n",
    "#### Delete the movie with id =1 , and show the person table before and after the deletion."
   ]
  },
  {
   "cell_type": "code",
   "execution_count": null,
   "metadata": {},
   "outputs": [],
   "source": [
    "### YOUR CODE HERE !!!"
   ]
  },
  {
   "cell_type": "markdown",
   "metadata": {},
   "source": [
    "## Extend you \"Movies\" DB \n",
    "\n",
    "Imagine now that we are going to extend our DB with new movies, actors, even with new directors.\n",
    "\n",
    "- We add <b>**\"The matrix\"**</b> movie which was released in <b>(1999)</b>, and has a new property \"Tagline\" <b>(\"Welcome to the Real World\")</b>.\n",
    "    - <font color='red'> Adding the \"Tagline\" new property (attribute) require changing the table schema</font>\n",
    "\n",
    "- We will also add 4 new actors (Person):\n",
    "    - **\"Keanu Reeves\"** who was born in (1964). Note \"born\" property is also new.\n",
    "    - **\"Carrie-Anne Moss\"** who was born in (1967).\n",
    "    - **\"Laurence Fishburne\"** who was born in (1960).\n",
    "    - **\"Hugo Weaving\"** who was born in (1960).\n",
    "    * <font color='red'> **Note**: Adding the new \"born\" Property require changing the table schema</font>    \n",
    "- Moreover, we add 2 directors (Person) :\n",
    "    - **\"Lilly Wachowski\"**, born in (1967)\n",
    "    - **\"Lana Wachowski\"**, born in(1965)\n",
    "- For these directors specify one more Label (\"Director\").\n",
    "    - <font color='red'> This new Label Will require **\"Denormalization\"** Or smothing</font>\n",
    "    \n",
    "- We will also Create a new <b>RelationType \"DIRECTED\" </b> that is directed from the later 3 director to \"the Matrix\" movie.\n",
    "    - - <font color='red'> New created table for **Directed** relationship </font>"
   ]
  },
  {
   "cell_type": "markdown",
   "metadata": {},
   "source": [
    "#### Adding Tagline column to the movie table requires, altering the table schema"
   ]
  },
  {
   "cell_type": "code",
   "execution_count": null,
   "metadata": {},
   "outputs": [],
   "source": [
    "# Add a new Column to the Schema of movie table"
   ]
  },
  {
   "cell_type": "markdown",
   "metadata": {},
   "source": [
    "#### Inserting the new movie \"The Matrix\" with the prementioned attributes to movie table"
   ]
  },
  {
   "cell_type": "code",
   "execution_count": null,
   "metadata": {},
   "outputs": [],
   "source": [
    "#### YOUR CODE HERE !!!"
   ]
  },
  {
   "cell_type": "markdown",
   "metadata": {},
   "source": [
    "#### Adding 'born' column to the person table also requires, altering the table schema"
   ]
  },
  {
   "cell_type": "code",
   "execution_count": null,
   "metadata": {},
   "outputs": [],
   "source": [
    "# Add a new Column to the Schema of person table"
   ]
  },
  {
   "cell_type": "markdown",
   "metadata": {},
   "source": [
    "#### Inserting the  \"4\" more Actors."
   ]
  },
  {
   "cell_type": "code",
   "execution_count": null,
   "metadata": {},
   "outputs": [],
   "source": [
    "#YOU CODE for Adding 4 More Actors"
   ]
  },
  {
   "cell_type": "markdown",
   "metadata": {},
   "source": [
    "#### Inserting the  \"2\" Directors"
   ]
  },
  {
   "cell_type": "code",
   "execution_count": null,
   "metadata": {},
   "outputs": [],
   "source": [
    "# YOU CODE for Adding 2 more Directors"
   ]
  },
  {
   "cell_type": "markdown",
   "metadata": {},
   "source": [
    "#### Specifying this new Label (\"Director\") will require \"normalization\"\n",
    "\n",
    "I highly suggest modeling this a little more \"normalized\". You are already on the right track by realizing that both \"Directors\" and maybe after that \"Actors\" are the same entity (Person). The trick is that you should model \"roles\", and then model user's roles as well. That makes 3 total tables for this small portion of your model.\n",
    "\n",
    "<img src= 'NormalizationTrick.JPG'>"
   ]
  },
  {
   "cell_type": "code",
   "execution_count": null,
   "metadata": {},
   "outputs": [],
   "source": [
    "#Create Label Table CODE HERE !!!"
   ]
  },
  {
   "cell_type": "code",
   "execution_count": null,
   "metadata": {},
   "outputs": [],
   "source": [
    "#Create Person_Label Table CODE HERE !!!"
   ]
  },
  {
   "cell_type": "markdown",
   "metadata": {},
   "source": [
    "#### Insert Data into the two new normalized tables (\"Person_label\", and \"Label\") "
   ]
  },
  {
   "cell_type": "code",
   "execution_count": null,
   "metadata": {},
   "outputs": [],
   "source": [
    "#### YOUR CODE HERE !!!"
   ]
  },
  {
   "cell_type": "markdown",
   "metadata": {},
   "source": [
    "#### Perform a query that shows only the \"Directors\""
   ]
  },
  {
   "cell_type": "code",
   "execution_count": null,
   "metadata": {},
   "outputs": [],
   "source": [
    "#### YOUR CODE HERE !!!"
   ]
  },
  {
   "cell_type": "markdown",
   "metadata": {},
   "source": [
    "#### \"Directed\" Relationship creation"
   ]
  },
  {
   "cell_type": "code",
   "execution_count": null,
   "metadata": {},
   "outputs": [],
   "source": [
    "# CODE to create the \"Directed\" Relationship."
   ]
  },
  {
   "cell_type": "markdown",
   "metadata": {},
   "source": [
    "#### Insert data to the \"Directed\" table "
   ]
  },
  {
   "cell_type": "code",
   "execution_count": null,
   "metadata": {},
   "outputs": [],
   "source": [
    "### YOUR CODE HERE !!!"
   ]
  },
  {
   "cell_type": "markdown",
   "metadata": {},
   "source": [
    "### Perform a query that get persons who Directed \"The matrix\" movie."
   ]
  },
  {
   "cell_type": "code",
   "execution_count": null,
   "metadata": {},
   "outputs": [],
   "source": [
    "### YOUR CODE HERE !!!"
   ]
  },
  {
   "cell_type": "markdown",
   "metadata": {},
   "source": [
    "## Task 3 (Tartu Country Club): \n",
    "\n",
    "- The DB  centered arround a **\"country club\"**, with a set of **members**, **facilities** such as tennis courts, and booking history for those facilities. \n",
    "- Amongst other things, the club wants to understand how they can use their information to analyze facility usage/demand.\n",
    "\n",
    "<img src=\"DBSchema.JPG\">"
   ]
  },
  {
   "cell_type": "markdown",
   "metadata": {},
   "source": [
    "#### From the above schema Diagram, answer the following questions:\n",
    "- What is the relationship type(i.e. nature) between the **\"memebers\"** and **\"facilities\"** tables?"
   ]
  },
  {
   "cell_type": "markdown",
   "metadata": {},
   "source": [
    "##### <font color='green'>Answer: </font>"
   ]
  },
  {
   "cell_type": "markdown",
   "metadata": {},
   "source": [
    "- Mention How was this relationship handled ?"
   ]
  },
  {
   "cell_type": "markdown",
   "metadata": {},
   "source": [
    "##### <font color='green'>Answer: </font>"
   ]
  },
  {
   "cell_type": "markdown",
   "metadata": {},
   "source": [
    "- Mention what are the keys (PRIMARY, FORIEN,..) in all the three tables (DB schema)."
   ]
  },
  {
   "cell_type": "markdown",
   "metadata": {},
   "source": [
    "##### <font color='green'>Answer: </font>"
   ]
  },
  {
   "cell_type": "markdown",
   "metadata": {},
   "source": [
    "- What is the Degree of each Table in the above DB schema?"
   ]
  },
  {
   "cell_type": "markdown",
   "metadata": {},
   "source": [
    "##### <font color='green'>Answer: </font>"
   ]
  },
  {
   "cell_type": "markdown",
   "metadata": {},
   "source": [
    "#### Use the attached  <font color='green'> \"clubdata.sql\" </font> script to create DB , tables, and insert data in the created tables.\n",
    "- login to your postgres command line as shown above.\n",
    "- use the command in your ***PSQL SHELL***  <code>\\i 'your/path/clubdata.sql'</code> to run the script."
   ]
  },
  {
   "cell_type": "markdown",
   "metadata": {},
   "source": [
    "#### Use SQL commands using python like in this jupyter note book, or use \"PgAdmin\" to answer the following:"
   ]
  },
  {
   "cell_type": "markdown",
   "metadata": {},
   "source": [
    "#### Get a list of all of the facilities and their cost to members."
   ]
  },
  {
   "cell_type": "code",
   "execution_count": null,
   "metadata": {},
   "outputs": [],
   "source": [
    "##YOUR QUERY HERE##"
   ]
  },
  {
   "cell_type": "markdown",
   "metadata": {},
   "source": [
    "#### How can you produce a list of facilities that charge a fee to members (membercost>0)?"
   ]
  },
  {
   "cell_type": "code",
   "execution_count": null,
   "metadata": {},
   "outputs": [],
   "source": [
    "##YOUR QUERY HERE##"
   ]
  },
  {
   "cell_type": "markdown",
   "metadata": {},
   "source": [
    "####  How can you produce a list of all facilities with the word 'Tennis' in their name?"
   ]
  },
  {
   "cell_type": "code",
   "execution_count": null,
   "metadata": {},
   "outputs": [],
   "source": [
    "##YOUR QUERY HERE##"
   ]
  },
  {
   "cell_type": "markdown",
   "metadata": {},
   "source": [
    "#### How can you retrieve the details of facilities with ID 1 and 5? <font color=red>Try to do it without using the OR operator.</font>"
   ]
  },
  {
   "cell_type": "code",
   "execution_count": null,
   "metadata": {},
   "outputs": [],
   "source": [
    "##YOUR QUERY HERE##"
   ]
  },
  {
   "cell_type": "markdown",
   "metadata": {},
   "source": [
    "####  How can you produce a list of facilities, with each labelled as 'cheap' or 'expensive' depending on if their monthly maintenance cost is more than $100? Return the name and monthly maintenance of the facilities in question. "
   ]
  },
  {
   "cell_type": "code",
   "execution_count": null,
   "metadata": {},
   "outputs": [],
   "source": [
    "##YOUR QUERY HERE##"
   ]
  },
  {
   "cell_type": "markdown",
   "metadata": {},
   "source": [
    "####  get the signup date of your last member. How can you retrieve this information? "
   ]
  },
  {
   "cell_type": "code",
   "execution_count": null,
   "metadata": {},
   "outputs": [],
   "source": [
    "##YOUR QUERY HERE##"
   ]
  },
  {
   "cell_type": "markdown",
   "metadata": {},
   "source": [
    " #### Retrieve the start times of members' bookings\n",
    " * Get a list of the start times for bookings by members named 'David Farrell'? "
   ]
  },
  {
   "cell_type": "code",
   "execution_count": null,
   "metadata": {},
   "outputs": [],
   "source": [
    "##YOUR QUERY HERE##"
   ]
  },
  {
   "cell_type": "markdown",
   "metadata": {},
   "source": [
    "#### The club is adding a new facility - a spa. We need to add it into the facilities table. Use the following values:\n",
    "\n",
    "    facid: 9, Name: 'Spa', membercost: 20, guestcost: 30, initialoutlay: 100000, monthlymaintenance: 800."
   ]
  },
  {
   "cell_type": "code",
   "execution_count": null,
   "metadata": {},
   "outputs": [],
   "source": [
    "##YOUR QUERY HERE##"
   ]
  },
  {
   "cell_type": "markdown",
   "metadata": {},
   "source": [
    "#### We made a mistake when entering the data for the \"Spa\" facility. \n",
    "    - The \"initial outlay\" should be 20000 rather than 100000: \n",
    "    - you need to alter the data to fix the error.\n",
    "    \n"
   ]
  },
  {
   "cell_type": "code",
   "execution_count": null,
   "metadata": {},
   "outputs": [],
   "source": [
    "##YOUR QUERY HERE##"
   ]
  },
  {
   "cell_type": "markdown",
   "metadata": {},
   "source": [
    "#### List the total slots booked per facility "
   ]
  },
  {
   "cell_type": "code",
   "execution_count": null,
   "metadata": {},
   "outputs": [],
   "source": [
    "##YOUR QUERY HERE##"
   ]
  },
  {
   "cell_type": "markdown",
   "metadata": {},
   "source": [
    "####  Delete all bookings \n",
    "*  As part of a clearout of our database, we want to delete all bookings from the cd.bookings table. How can we accomplish this? "
   ]
  },
  {
   "cell_type": "code",
   "execution_count": null,
   "metadata": {},
   "outputs": [],
   "source": [
    "##YOUR QUERY HERE##"
   ]
  },
  {
   "cell_type": "markdown",
   "metadata": {},
   "source": [
    " ## How long did it take you to solve the homework?\n",
    " \n",
    "Please answer as precisely as you can. It does not affect your points or grade in any way. It is okey, if it took 0.5 hours or 24 hours. The collected information will be used to improve future homeworks."
   ]
  },
  {
   "cell_type": "markdown",
   "metadata": {},
   "source": [
    "<font color=\"red\"><b>Answer:</b></font>"
   ]
  },
  {
   "cell_type": "markdown",
   "metadata": {},
   "source": [
    "**<center> <font color='red'>THANK YOU FOR YOUR EFFORT!</font></center>**"
   ]
  }
 ],
 "metadata": {
  "kernelspec": {
   "display_name": "Python 3 (ipykernel)",
   "language": "python",
   "name": "python3"
  },
  "language_info": {
   "codemirror_mode": {
    "name": "ipython",
    "version": 3
   },
   "file_extension": ".py",
   "mimetype": "text/x-python",
   "name": "python",
   "nbconvert_exporter": "python",
   "pygments_lexer": "ipython3",
   "version": "3.11.6"
  }
 },
 "nbformat": 4,
 "nbformat_minor": 4
}
